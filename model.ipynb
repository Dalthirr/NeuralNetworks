{
  "nbformat": 4,
  "nbformat_minor": 0,
  "metadata": {
    "colab": {
      "name": "model.ipynb",
      "version": "0.3.2",
      "provenance": [],
      "toc_visible": true
    },
    "language_info": {
      "codemirror_mode": {
        "name": "ipython",
        "version": 3
      },
      "file_extension": ".py",
      "mimetype": "text/x-python",
      "name": "python",
      "nbconvert_exporter": "python",
      "pygments_lexer": "ipython3",
      "version": "3.6.8"
    },
    "kernelspec": {
      "display_name": "Python 3",
      "language": "python",
      "name": "python3"
    }
  },
  "cells": [
    {
      "cell_type": "markdown",
      "metadata": {
        "id": "kP7he45N2HRe",
        "colab_type": "text"
      },
      "source": [
        "## Import necessary modules"
      ]
    },
    {
      "cell_type": "code",
      "metadata": {
        "id": "H28CM2rV2HRj",
        "colab_type": "code",
        "colab": {
          "base_uri": "https://localhost:8080/",
          "height": 34
        },
        "outputId": "3c2b7589-cc30-4357-e2ae-48bf167a42bc"
      },
      "source": [
        "import numpy as np\n",
        "import pandas as pd\n",
        "import sklearn\n",
        "import keras\n",
        "import seaborn\n",
        "import matplotlib.pyplot as plt\n",
        "import tensorflow\n",
        "from sklearn.model_selection import train_test_split\n",
        "from sklearn.preprocessing import StandardScaler"
      ],
      "execution_count": 1,
      "outputs": [
        {
          "output_type": "stream",
          "text": [
            "Using TensorFlow backend.\n"
          ],
          "name": "stderr"
        }
      ]
    },
    {
      "cell_type": "code",
      "metadata": {
        "id": "LzEZclYs2HRy",
        "colab_type": "code",
        "outputId": "8822d1ca-1ac7-41ec-9482-c424ea27341d",
        "colab": {
          "base_uri": "https://localhost:8080/",
          "height": 302
        }
      },
      "source": [
        "url = 'https://raw.githubusercontent.com/Dalthirr/NeuralNetworks/master/Churn_Modelling.csv'\n",
        "df=pd.read_csv(url) #Pobieranie danych\n",
        "df = df.drop([\"CustomerId\", \"Surname\", \"RowNumber\"],\n",
        "        axis=1)\n",
        "df = pd.concat([df, pd.get_dummies(df[[\"Gender\", \"Geography\"]], drop_first=True)],\n",
        "               sort=False, axis=1).drop(df[[\"Gender\", \"Geography\"]], axis=1)\n",
        "df.info()"
      ],
      "execution_count": 2,
      "outputs": [
        {
          "output_type": "stream",
          "text": [
            "<class 'pandas.core.frame.DataFrame'>\n",
            "RangeIndex: 10000 entries, 0 to 9999\n",
            "Data columns (total 12 columns):\n",
            "CreditScore          10000 non-null int64\n",
            "Age                  10000 non-null int64\n",
            "Tenure               10000 non-null int64\n",
            "Balance              10000 non-null float64\n",
            "NumOfProducts        10000 non-null int64\n",
            "HasCrCard            10000 non-null int64\n",
            "IsActiveMember       10000 non-null int64\n",
            "EstimatedSalary      10000 non-null float64\n",
            "Exited               10000 non-null int64\n",
            "Gender_Male          10000 non-null uint8\n",
            "Geography_Germany    10000 non-null uint8\n",
            "Geography_Spain      10000 non-null uint8\n",
            "dtypes: float64(2), int64(7), uint8(3)\n",
            "memory usage: 732.5 KB\n"
          ],
          "name": "stdout"
        }
      ]
    },
    {
      "cell_type": "code",
      "metadata": {
        "id": "91OO5oBWB1xE",
        "colab_type": "code",
        "colab": {}
      },
      "source": [
        "X=(df.drop(['Exited'], axis=1))\n",
        "y=(df.Exited)\n",
        "X_train, X_test, y_train, y_test = train_test_split(X, y, test_size=0.33, random_state=42)\n",
        "\n",
        "scaler=StandardScaler().fit(X_train)\n",
        "X_train = scaler.transform(X_train)\n",
        "\n",
        "X_test = scaler.transform(X_test)\n",
        "\n",
        "\n",
        "\n"
      ],
      "execution_count": 0,
      "outputs": []
    },
    {
      "cell_type": "code",
      "metadata": {
        "id": "5uOxdI7HIbXc",
        "colab_type": "code",
        "outputId": "89b78220-2711-467f-996a-82994bc31eb1",
        "colab": {
          "base_uri": "https://localhost:8080/",
          "height": 843
        }
      },
      "source": [
        "# Import `Sequential` from `keras.models`\n",
        "from keras.models import Sequential\n",
        "\n",
        "# Import `Dense` from `keras.layers`\n",
        "from keras.layers import Dense\n",
        "\n",
        "# Creating Model, I will build simple networt using Sequential.\n",
        "model=Sequential()\n",
        "# Add an input layer shape depends on shape of X. We have 11 columns in X.\n",
        "model.add(Dense(12, activation='relu', input_shape=(11,)))\n",
        "\n",
        "# Add one hidden layer \n",
        "model.add(Dense(8, activation='relu'))\n",
        "\n",
        "# Add an output layer \n",
        "model.add(Dense(1, activation='sigmoid'))\n",
        "\n",
        "\n",
        "model.compile(loss='binary_crossentropy',\n",
        "              optimizer='adam',\n",
        "              metrics=['accuracy'])\n",
        "                   \n",
        "model.fit(X_train, y_train,epochs=20, batch_size=1, verbose=1)\n",
        "\n",
        "model.evaluate(X_test,y_test)"
      ],
      "execution_count": 8,
      "outputs": [
        {
          "output_type": "stream",
          "text": [
            "WARNING:tensorflow:From /usr/local/lib/python3.6/dist-packages/tensorflow/python/framework/op_def_library.py:263: colocate_with (from tensorflow.python.framework.ops) is deprecated and will be removed in a future version.\n",
            "Instructions for updating:\n",
            "Colocations handled automatically by placer.\n",
            "WARNING:tensorflow:From /usr/local/lib/python3.6/dist-packages/tensorflow/python/ops/math_ops.py:3066: to_int32 (from tensorflow.python.ops.math_ops) is deprecated and will be removed in a future version.\n",
            "Instructions for updating:\n",
            "Use tf.cast instead.\n",
            "Epoch 1/20\n",
            "6700/6700 [==============================] - 7s 1ms/step - loss: 0.4505 - acc: 0.8034\n",
            "Epoch 2/20\n",
            "6700/6700 [==============================] - 6s 950us/step - loss: 0.3868 - acc: 0.8364\n",
            "Epoch 3/20\n",
            "6700/6700 [==============================] - 7s 974us/step - loss: 0.3599 - acc: 0.8506\n",
            "Epoch 4/20\n",
            "6700/6700 [==============================] - 6s 947us/step - loss: 0.3528 - acc: 0.8542\n",
            "Epoch 5/20\n",
            "6700/6700 [==============================] - 6s 959us/step - loss: 0.3499 - acc: 0.8543\n",
            "Epoch 6/20\n",
            "6700/6700 [==============================] - 6s 957us/step - loss: 0.3475 - acc: 0.8549\n",
            "Epoch 7/20\n",
            "6700/6700 [==============================] - 6s 959us/step - loss: 0.3461 - acc: 0.8557\n",
            "Epoch 8/20\n",
            "6700/6700 [==============================] - 6s 949us/step - loss: 0.3439 - acc: 0.8584\n",
            "Epoch 9/20\n",
            "6700/6700 [==============================] - 6s 956us/step - loss: 0.3417 - acc: 0.8573\n",
            "Epoch 10/20\n",
            "6700/6700 [==============================] - 6s 954us/step - loss: 0.3414 - acc: 0.8591\n",
            "Epoch 11/20\n",
            "6700/6700 [==============================] - 6s 967us/step - loss: 0.3401 - acc: 0.8600\n",
            "Epoch 12/20\n",
            "6700/6700 [==============================] - 6s 961us/step - loss: 0.3386 - acc: 0.8606\n",
            "Epoch 13/20\n",
            "6700/6700 [==============================] - 6s 953us/step - loss: 0.3385 - acc: 0.8584\n",
            "Epoch 14/20\n",
            "6700/6700 [==============================] - 6s 960us/step - loss: 0.3366 - acc: 0.8601\n",
            "Epoch 15/20\n",
            "6700/6700 [==============================] - 6s 950us/step - loss: 0.3375 - acc: 0.8613\n",
            "Epoch 16/20\n",
            "6700/6700 [==============================] - 6s 964us/step - loss: 0.3367 - acc: 0.8606\n",
            "Epoch 17/20\n",
            "6700/6700 [==============================] - 7s 979us/step - loss: 0.3362 - acc: 0.8601\n",
            "Epoch 18/20\n",
            "6700/6700 [==============================] - 7s 1ms/step - loss: 0.3355 - acc: 0.8621\n",
            "Epoch 19/20\n",
            "6700/6700 [==============================] - 7s 978us/step - loss: 0.3354 - acc: 0.8575\n",
            "Epoch 20/20\n",
            "6700/6700 [==============================] - 6s 957us/step - loss: 0.3334 - acc: 0.8627\n",
            "3300/3300 [==============================] - 0s 24us/step\n"
          ],
          "name": "stdout"
        },
        {
          "output_type": "execute_result",
          "data": {
            "text/plain": [
              "[0.34127601587411127, 0.8624242424242424]"
            ]
          },
          "metadata": {
            "tags": []
          },
          "execution_count": 8
        }
      ]
    }
  ]
}