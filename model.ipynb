{
  "nbformat": 4,
  "nbformat_minor": 0,
  "metadata": {
    "colab": {
      "name": "model.ipynb",
      "version": "0.3.2",
      "provenance": [],
      "toc_visible": true,
      "include_colab_link": true
    },
    "language_info": {
      "codemirror_mode": {
        "name": "ipython",
        "version": 3
      },
      "file_extension": ".py",
      "mimetype": "text/x-python",
      "name": "python",
      "nbconvert_exporter": "python",
      "pygments_lexer": "ipython3",
      "version": "3.6.8"
    },
    "kernelspec": {
      "name": "python3",
      "display_name": "Python 3"
    },
    "accelerator": "GPU"
  },
  "cells": [
    {
      "cell_type": "markdown",
      "metadata": {
        "id": "view-in-github",
        "colab_type": "text"
      },
      "source": [
        "<a href=\"https://colab.research.google.com/github/Dalthirr/NeuralNetworks/blob/Model/model.ipynb\" target=\"_parent\"><img src=\"https://colab.research.google.com/assets/colab-badge.svg\" alt=\"Open In Colab\"/></a>"
      ]
    },
    {
      "cell_type": "markdown",
      "metadata": {
        "id": "kP7he45N2HRe",
        "colab_type": "text"
      },
      "source": [
        "## Import necessary modules"
      ]
    },
    {
      "cell_type": "code",
      "metadata": {
        "id": "H28CM2rV2HRj",
        "colab_type": "code",
        "outputId": "117aaa03-63aa-4bb8-c740-853dfb175de1",
        "colab": {
          "base_uri": "https://localhost:8080/",
          "height": 801
        }
      },
      "source": [
        "import numpy as np\n",
        "import pandas as pd\n",
        "import sklearn\n",
        "import keras\n",
        "import seaborn\n",
        "import matplotlib.pyplot as plt\n",
        "import tensorflow\n",
        "from sklearn.model_selection import train_test_split\n",
        "from sklearn.preprocessing import StandardScaler\n",
        "from sklearn.metrics import classification_report, confusion_matrix\n",
        "!pip install -q keras_metrics\n",
        "import keras_metrics\n",
        "from sklearn.model_selection import cross_validate\n",
        "!pip install livelossplot\n",
        "from livelossplot import PlotLossesKeras\n",
        "from keras.models import Sequential\n",
        "from keras.callbacks import EarlyStopping\n",
        "from keras.layers import Dense\n",
        "from keras.layers import Dropout\n",
        "from sklearn.metrics import precision_recall_fscore_support as score"
      ],
      "execution_count": 1,
      "outputs": [
        {
          "output_type": "stream",
          "text": [
            "Using TensorFlow backend.\n"
          ],
          "name": "stderr"
        },
        {
          "output_type": "stream",
          "text": [
            "Collecting livelossplot\n",
            "  Downloading https://files.pythonhosted.org/packages/8e/f6/0618c30078f9c1e4b2cd84f1ea6bb70c6615070468b75b0d934326107bcd/livelossplot-0.4.1-py3-none-any.whl\n",
            "Requirement already satisfied: notebook in /usr/local/lib/python3.6/dist-packages (from livelossplot) (5.2.2)\n",
            "Requirement already satisfied: matplotlib in /usr/local/lib/python3.6/dist-packages (from livelossplot) (3.0.3)\n",
            "Requirement already satisfied: nbconvert in /usr/local/lib/python3.6/dist-packages (from notebook->livelossplot) (5.5.0)\n",
            "Requirement already satisfied: jinja2 in /usr/local/lib/python3.6/dist-packages (from notebook->livelossplot) (2.10.1)\n",
            "Requirement already satisfied: jupyter-core in /usr/local/lib/python3.6/dist-packages (from notebook->livelossplot) (4.4.0)\n",
            "Requirement already satisfied: traitlets>=4.2.1 in /usr/local/lib/python3.6/dist-packages (from notebook->livelossplot) (4.3.2)\n",
            "Requirement already satisfied: tornado>=4 in /usr/local/lib/python3.6/dist-packages (from notebook->livelossplot) (4.5.3)\n",
            "Requirement already satisfied: terminado>=0.3.3; sys_platform != \"win32\" in /usr/local/lib/python3.6/dist-packages (from notebook->livelossplot) (0.8.2)\n",
            "Requirement already satisfied: ipython-genutils in /usr/local/lib/python3.6/dist-packages (from notebook->livelossplot) (0.2.0)\n",
            "Requirement already satisfied: nbformat in /usr/local/lib/python3.6/dist-packages (from notebook->livelossplot) (4.4.0)\n",
            "Requirement already satisfied: ipykernel in /usr/local/lib/python3.6/dist-packages (from notebook->livelossplot) (4.6.1)\n",
            "Requirement already satisfied: jupyter-client in /usr/local/lib/python3.6/dist-packages (from notebook->livelossplot) (5.2.4)\n",
            "Requirement already satisfied: kiwisolver>=1.0.1 in /usr/local/lib/python3.6/dist-packages (from matplotlib->livelossplot) (1.1.0)\n",
            "Requirement already satisfied: cycler>=0.10 in /usr/local/lib/python3.6/dist-packages (from matplotlib->livelossplot) (0.10.0)\n",
            "Requirement already satisfied: python-dateutil>=2.1 in /usr/local/lib/python3.6/dist-packages (from matplotlib->livelossplot) (2.5.3)\n",
            "Requirement already satisfied: pyparsing!=2.0.4,!=2.1.2,!=2.1.6,>=2.0.1 in /usr/local/lib/python3.6/dist-packages (from matplotlib->livelossplot) (2.4.0)\n",
            "Requirement already satisfied: numpy>=1.10.0 in /usr/local/lib/python3.6/dist-packages (from matplotlib->livelossplot) (1.16.4)\n",
            "Requirement already satisfied: defusedxml in /usr/local/lib/python3.6/dist-packages (from nbconvert->notebook->livelossplot) (0.6.0)\n",
            "Requirement already satisfied: entrypoints>=0.2.2 in /usr/local/lib/python3.6/dist-packages (from nbconvert->notebook->livelossplot) (0.3)\n",
            "Requirement already satisfied: bleach in /usr/local/lib/python3.6/dist-packages (from nbconvert->notebook->livelossplot) (3.1.0)\n",
            "Requirement already satisfied: mistune>=0.8.1 in /usr/local/lib/python3.6/dist-packages (from nbconvert->notebook->livelossplot) (0.8.4)\n",
            "Requirement already satisfied: pygments in /usr/local/lib/python3.6/dist-packages (from nbconvert->notebook->livelossplot) (2.1.3)\n",
            "Requirement already satisfied: pandocfilters>=1.4.1 in /usr/local/lib/python3.6/dist-packages (from nbconvert->notebook->livelossplot) (1.4.2)\n",
            "Requirement already satisfied: testpath in /usr/local/lib/python3.6/dist-packages (from nbconvert->notebook->livelossplot) (0.4.2)\n",
            "Requirement already satisfied: MarkupSafe>=0.23 in /usr/local/lib/python3.6/dist-packages (from jinja2->notebook->livelossplot) (1.1.1)\n",
            "Requirement already satisfied: six in /usr/local/lib/python3.6/dist-packages (from traitlets>=4.2.1->notebook->livelossplot) (1.12.0)\n",
            "Requirement already satisfied: decorator in /usr/local/lib/python3.6/dist-packages (from traitlets>=4.2.1->notebook->livelossplot) (4.4.0)\n",
            "Requirement already satisfied: ptyprocess; os_name != \"nt\" in /usr/local/lib/python3.6/dist-packages (from terminado>=0.3.3; sys_platform != \"win32\"->notebook->livelossplot) (0.6.0)\n",
            "Requirement already satisfied: jsonschema!=2.5.0,>=2.4 in /usr/local/lib/python3.6/dist-packages (from nbformat->notebook->livelossplot) (2.6.0)\n",
            "Requirement already satisfied: ipython>=4.0.0 in /usr/local/lib/python3.6/dist-packages (from ipykernel->notebook->livelossplot) (5.5.0)\n",
            "Requirement already satisfied: pyzmq>=13 in /usr/local/lib/python3.6/dist-packages (from jupyter-client->notebook->livelossplot) (17.0.0)\n",
            "Requirement already satisfied: setuptools in /usr/local/lib/python3.6/dist-packages (from kiwisolver>=1.0.1->matplotlib->livelossplot) (41.0.1)\n",
            "Requirement already satisfied: webencodings in /usr/local/lib/python3.6/dist-packages (from bleach->nbconvert->notebook->livelossplot) (0.5.1)\n",
            "Requirement already satisfied: pickleshare in /usr/local/lib/python3.6/dist-packages (from ipython>=4.0.0->ipykernel->notebook->livelossplot) (0.7.5)\n",
            "Requirement already satisfied: pexpect; sys_platform != \"win32\" in /usr/local/lib/python3.6/dist-packages (from ipython>=4.0.0->ipykernel->notebook->livelossplot) (4.7.0)\n",
            "Requirement already satisfied: prompt-toolkit<2.0.0,>=1.0.4 in /usr/local/lib/python3.6/dist-packages (from ipython>=4.0.0->ipykernel->notebook->livelossplot) (1.0.16)\n",
            "Requirement already satisfied: simplegeneric>0.8 in /usr/local/lib/python3.6/dist-packages (from ipython>=4.0.0->ipykernel->notebook->livelossplot) (0.8.1)\n",
            "Requirement already satisfied: wcwidth in /usr/local/lib/python3.6/dist-packages (from prompt-toolkit<2.0.0,>=1.0.4->ipython>=4.0.0->ipykernel->notebook->livelossplot) (0.1.7)\n",
            "Installing collected packages: livelossplot\n",
            "Successfully installed livelossplot-0.4.1\n"
          ],
          "name": "stdout"
        }
      ]
    },
    {
      "cell_type": "code",
      "metadata": {
        "id": "LzEZclYs2HRy",
        "colab_type": "code",
        "outputId": "5aa56b41-b393-4422-a570-eb65da5a8edb",
        "colab": {
          "base_uri": "https://localhost:8080/",
          "height": 319
        }
      },
      "source": [
        "url = 'https://raw.githubusercontent.com/Dalthirr/NeuralNetworks/master/Churn_Modelling.csv'\n",
        "df=pd.read_csv(url) #Pobieranie danych\n",
        "df = df.drop([\"CustomerId\", \"Surname\", \"RowNumber\"],\n",
        "        axis=1)\n",
        "df = pd.concat([df, pd.get_dummies(df[[\"Gender\", \"Geography\"]], drop_first=True)],\n",
        "               sort=False, axis=1).drop(df[[\"Gender\", \"Geography\"]], axis=1)\n",
        "df.info()"
      ],
      "execution_count": 2,
      "outputs": [
        {
          "output_type": "stream",
          "text": [
            "<class 'pandas.core.frame.DataFrame'>\n",
            "RangeIndex: 10000 entries, 0 to 9999\n",
            "Data columns (total 12 columns):\n",
            "CreditScore          10000 non-null int64\n",
            "Age                  10000 non-null int64\n",
            "Tenure               10000 non-null int64\n",
            "Balance              10000 non-null float64\n",
            "NumOfProducts        10000 non-null int64\n",
            "HasCrCard            10000 non-null int64\n",
            "IsActiveMember       10000 non-null int64\n",
            "EstimatedSalary      10000 non-null float64\n",
            "Exited               10000 non-null int64\n",
            "Gender_Male          10000 non-null uint8\n",
            "Geography_Germany    10000 non-null uint8\n",
            "Geography_Spain      10000 non-null uint8\n",
            "dtypes: float64(2), int64(7), uint8(3)\n",
            "memory usage: 732.5 KB\n"
          ],
          "name": "stdout"
        }
      ]
    },
    {
      "cell_type": "code",
      "metadata": {
        "id": "91OO5oBWB1xE",
        "colab_type": "code",
        "colab": {}
      },
      "source": [
        "X=df.drop(['Exited'], axis=1)\n",
        "y=df['Exited']\n",
        "\n",
        "X_train, X_test, y_train, y_test = train_test_split(X, y, test_size=0.33, random_state=42,stratify=y)\n",
        "\n",
        "scaler=StandardScaler().fit(X_train)\n",
        "X_train_std = scaler.transform(X_train)\n",
        "\n",
        "X_test_std = scaler.transform(X_test)\n",
        "\n",
        "X_std=scaler.transform(X)\n",
        "\n",
        "\n"
      ],
      "execution_count": 0,
      "outputs": []
    },
    {
      "cell_type": "markdown",
      "metadata": {
        "id": "pcuNdQPYRrnG",
        "colab_type": "text"
      },
      "source": [
        "**Tomek**\n",
        "Zbuduję przykładową sieć, któa składa się z Layera wejściowego, jednoego ukrytego i wyjściowego.\n",
        "Kompilujemy model przy użyciu \n",
        "loss_function='binary_crossentripy'\n",
        "optimizer='Adam'\n",
        "**naszą główną metryką będzie precyzja**\n",
        "Czyli jaki procent z osób, ktore zostały określone jako zagrożone do odejścia z banku faktycznie taki jest.\n",
        "**oraz precyzja**"
      ]
    },
    {
      "cell_type": "code",
      "metadata": {
        "id": "5uOxdI7HIbXc",
        "colab_type": "code",
        "outputId": "5c24dbe7-83a0-400f-c446-42ade6903be0",
        "colab": {
          "base_uri": "https://localhost:8080/",
          "height": 304
        }
      },
      "source": [
        "\n",
        "\n",
        "# Creating Model, I will build simple networt using Sequential.\n",
        "model=Sequential()\n",
        "# Add an input layer shape depends on shape of X. We have 11 columns in X.\n",
        "model.add(Dense(11, activation='relu', input_shape=(11,)))\n",
        "\n",
        "# Add one hidden layer \n",
        "model.add(Dense(121, activation='relu'))\n",
        "\n",
        "\n",
        "\n",
        "# Add an output layer \n",
        "model.add(Dense(1, activation='sigmoid'))\n",
        "\n",
        "\n",
        "model.compile(loss='binary_crossentropy',\n",
        "              optimizer='adam',\n",
        "              metrics=[keras_metrics.precision(),'accuracy'])\n",
        "                   \n",
        "model.fit(X_train_std, y_train,epochs=3, batch_size=1, verbose=1,validation_data=(X_test,y_test))\n",
        "\n",
        "model.evaluate(X_test_std,y_test)\n",
        "\n",
        "\n"
      ],
      "execution_count": 4,
      "outputs": [
        {
          "output_type": "stream",
          "text": [
            "WARNING:tensorflow:From /usr/local/lib/python3.6/dist-packages/tensorflow/python/framework/op_def_library.py:263: colocate_with (from tensorflow.python.framework.ops) is deprecated and will be removed in a future version.\n",
            "Instructions for updating:\n",
            "Colocations handled automatically by placer.\n",
            "WARNING:tensorflow:From /usr/local/lib/python3.6/dist-packages/tensorflow/python/ops/math_ops.py:3066: to_int32 (from tensorflow.python.ops.math_ops) is deprecated and will be removed in a future version.\n",
            "Instructions for updating:\n",
            "Use tf.cast instead.\n",
            "Train on 6700 samples, validate on 3300 samples\n",
            "Epoch 1/3\n",
            "6700/6700 [==============================] - 40s 6ms/step - loss: 0.4333 - precision: 0.6134 - acc: 0.8134 - val_loss: 6.1813 - val_precision: 0.2458 - val_acc: 0.6133\n",
            "Epoch 2/3\n",
            "6700/6700 [==============================] - 40s 6ms/step - loss: 0.3709 - precision: 0.7247 - acc: 0.8467 - val_loss: 8.5011 - val_precision: 0.2444 - val_acc: 0.4673\n",
            "Epoch 3/3\n",
            "6700/6700 [==============================] - 39s 6ms/step - loss: 0.3612 - precision: 0.7372 - acc: 0.8528 - val_loss: 12.6959 - val_precision: 0.2036 - val_acc: 0.2036\n",
            "3300/3300 [==============================] - 0s 70us/step\n"
          ],
          "name": "stdout"
        },
        {
          "output_type": "execute_result",
          "data": {
            "text/plain": [
              "[0.3613393403905811, 0.7020833331870661, 0.8551515151515151]"
            ]
          },
          "metadata": {
            "tags": []
          },
          "execution_count": 4
        }
      ]
    },
    {
      "cell_type": "code",
      "metadata": {
        "id": "An8__t8VZEBi",
        "colab_type": "code",
        "outputId": "c82a75ab-9b24-4c9b-cbd4-1dcf5a515f4f",
        "colab": {
          "base_uri": "https://localhost:8080/",
          "height": 195
        }
      },
      "source": [
        "\n",
        "y_pred=model.predict_classes(X_test_std)\n",
        "report=classification_report(y_test,y_pred)\n",
        "report1=classification_report(y_test,y_pred,output_dict=True)\n",
        "print(report)\n",
        "'''\n",
        "predykcja={'predykcja':list(y_pred),'Cel':list(y_test)}\n",
        "check=pd.DataFrame.from_dict(predykcja)\n",
        "check\n",
        "'''\n",
        "print(report1['0']['precision'])\n"
      ],
      "execution_count": 14,
      "outputs": [
        {
          "output_type": "stream",
          "text": [
            "              precision    recall  f1-score   support\n",
            "\n",
            "           0       0.88      0.95      0.91      2628\n",
            "           1       0.70      0.50      0.59       672\n",
            "\n",
            "    accuracy                           0.86      3300\n",
            "   macro avg       0.79      0.72      0.75      3300\n",
            "weighted avg       0.84      0.86      0.85      3300\n",
            "\n",
            "0.8812056737588653\n"
          ],
          "name": "stdout"
        }
      ]
    },
    {
      "cell_type": "code",
      "metadata": {
        "id": "dXLZvbc0r5TH",
        "colab_type": "code",
        "colab": {
          "base_uri": "https://localhost:8080/",
          "height": 1335
        },
        "outputId": "238b8f58-daf9-492f-d929-7562eb9a104f"
      },
      "source": [
        "nodes=[10,30,50,70,90,110]\n",
        "wyniki={}\n",
        "for i in nodes:\n",
        "  model=0\n",
        "# Creating Model, I will build simple networt using Sequential.\n",
        "  model=Sequential()\n",
        "# Add an input layer shape depends on shape of X. We have 11 columns in X.\n",
        "  model.add(Dense(11, activation='relu', input_shape=(11,)))\n",
        "\n",
        "# Add one hidden layer \n",
        "  model.add(Dense(i, activation='relu'))\n",
        "\n",
        "\n",
        "\n",
        "# Add an output layer \n",
        "  model.add(Dense(1, activation='sigmoid'))\n",
        "\n",
        "\n",
        "  model.compile(loss='binary_crossentropy',\n",
        "              optimizer='adam',\n",
        "              metrics=[keras_metrics.precision(),'accuracy'])\n",
        "                   \n",
        "  model.fit(X_train_std, y_train,epochs=5, batch_size=1, verbose=1,validation_data=(X_test,y_test))\n",
        "\n",
        "  model.evaluate(X_test_std,y_test)\n",
        "  y_pred=model.predict_classes(X_test_std)\n",
        "  report=classification_report(y_test,y_pred,output_dict=True)\n",
        "  wyniki.update({i: [report['0']['precision'],report['1']['precision']]})\n",
        "\n",
        "print(wyniki)\n",
        "  \n",
        "  "
      ],
      "execution_count": 17,
      "outputs": [
        {
          "output_type": "stream",
          "text": [
            "Train on 6700 samples, validate on 3300 samples\n",
            "Epoch 1/5\n",
            "6700/6700 [==============================] - 41s 6ms/step - loss: 0.4299 - precision: 0.6692 - acc: 0.8164 - val_loss: 3.2822 - val_precision: 0.0000e+00 - val_acc: 0.7964\n",
            "Epoch 2/5\n",
            "6700/6700 [==============================] - 40s 6ms/step - loss: 0.3681 - precision: 0.7068 - acc: 0.8470 - val_loss: 3.2822 - val_precision: 0.0000e+00 - val_acc: 0.7964\n",
            "Epoch 3/5\n",
            "6700/6700 [==============================] - 40s 6ms/step - loss: 0.3518 - precision: 0.7448 - acc: 0.8564 - val_loss: 3.2822 - val_precision: 0.0000e+00 - val_acc: 0.7964\n",
            "Epoch 4/5\n",
            "6700/6700 [==============================] - 40s 6ms/step - loss: 0.3480 - precision: 0.7469 - acc: 0.8563 - val_loss: 3.2822 - val_precision: 0.0000e+00 - val_acc: 0.7964\n",
            "Epoch 5/5\n",
            "6700/6700 [==============================] - 41s 6ms/step - loss: 0.3428 - precision: 0.7601 - acc: 0.8597 - val_loss: 3.2856 - val_precision: 0.0000e+00 - val_acc: 0.7961\n",
            "3300/3300 [==============================] - 0s 76us/step\n",
            "Train on 6700 samples, validate on 3300 samples\n",
            "Epoch 1/5\n",
            "6700/6700 [==============================] - 41s 6ms/step - loss: 0.4350 - precision: 0.6065 - acc: 0.8070 - val_loss: 4.5011 - val_precision: 0.2756 - val_acc: 0.7194\n",
            "Epoch 2/5\n",
            "6700/6700 [==============================] - 41s 6ms/step - loss: 0.3748 - precision: 0.7200 - acc: 0.8472 - val_loss: 5.6943 - val_precision: 0.2475 - val_acc: 0.6442\n",
            "Epoch 3/5\n",
            "6700/6700 [==============================] - 40s 6ms/step - loss: 0.3565 - precision: 0.7284 - acc: 0.8515 - val_loss: 8.1211 - val_precision: 0.2461 - val_acc: 0.4912\n",
            "Epoch 4/5\n",
            "6700/6700 [==============================] - 40s 6ms/step - loss: 0.3527 - precision: 0.7485 - acc: 0.8570 - val_loss: 7.7549 - val_precision: 0.2469 - val_acc: 0.5142\n",
            "Epoch 5/5\n",
            "6700/6700 [==============================] - 40s 6ms/step - loss: 0.3478 - precision: 0.7546 - acc: 0.8588 - val_loss: 8.4721 - val_precision: 0.2450 - val_acc: 0.4691\n",
            "3300/3300 [==============================] - 0s 78us/step\n",
            "Train on 6700 samples, validate on 3300 samples\n",
            "Epoch 1/5\n",
            "6700/6700 [==============================] - 41s 6ms/step - loss: 0.4449 - precision: 0.6281 - acc: 0.8101 - val_loss: 3.2822 - val_precision: 0.0000e+00 - val_acc: 0.7964\n",
            "Epoch 2/5\n",
            "6700/6700 [==============================] - 41s 6ms/step - loss: 0.3832 - precision: 0.7179 - acc: 0.8449 - val_loss: 7.1752 - val_precision: 0.1325 - val_acc: 0.5476\n",
            "Epoch 3/5\n",
            "6700/6700 [==============================] - 41s 6ms/step - loss: 0.3567 - precision: 0.7438 - acc: 0.8551 - val_loss: 3.2822 - val_precision: 0.0000e+00 - val_acc: 0.7964\n",
            "Epoch 4/5\n",
            "6700/6700 [==============================] - 41s 6ms/step - loss: 0.3493 - precision: 0.7614 - acc: 0.8581 - val_loss: 3.2822 - val_precision: 0.0000e+00 - val_acc: 0.7964\n",
            "Epoch 5/5\n",
            "6700/6700 [==============================] - 41s 6ms/step - loss: 0.3473 - precision: 0.7562 - acc: 0.8578 - val_loss: 3.2822 - val_precision: 0.0000e+00 - val_acc: 0.7964\n",
            "3300/3300 [==============================] - 0s 78us/step\n",
            "Train on 6700 samples, validate on 3300 samples\n",
            "Epoch 1/5\n",
            "6700/6700 [==============================] - 41s 6ms/step - loss: 0.4367 - precision: 0.6181 - acc: 0.8122 - val_loss: 12.4904 - val_precision: 0.2047 - val_acc: 0.2161\n",
            "Epoch 2/5\n",
            "6700/6700 [==============================] - 41s 6ms/step - loss: 0.3725 - precision: 0.7095 - acc: 0.8434 - val_loss: 12.6332 - val_precision: 0.2044 - val_acc: 0.2073\n",
            "Epoch 3/5\n",
            "6700/6700 [==============================] - 41s 6ms/step - loss: 0.3572 - precision: 0.7522 - acc: 0.8555 - val_loss: 12.6482 - val_precision: 0.2041 - val_acc: 0.2061\n",
            "Epoch 4/5\n",
            "6700/6700 [==============================] - 41s 6ms/step - loss: 0.3538 - precision: 0.7434 - acc: 0.8537 - val_loss: 12.6159 - val_precision: 0.2046 - val_acc: 0.2082\n",
            "Epoch 5/5\n",
            "6700/6700 [==============================] - 41s 6ms/step - loss: 0.3501 - precision: 0.7628 - acc: 0.8561 - val_loss: 12.6331 - val_precision: 0.2044 - val_acc: 0.2076\n",
            "3300/3300 [==============================] - 0s 83us/step\n",
            "Train on 6700 samples, validate on 3300 samples\n",
            "Epoch 1/5\n",
            "6700/6700 [==============================] - 42s 6ms/step - loss: 0.4386 - precision: 0.6326 - acc: 0.8125 - val_loss: 7.4805 - val_precision: 0.1412 - val_acc: 0.5300\n",
            "Epoch 2/5\n",
            "6700/6700 [==============================] - 42s 6ms/step - loss: 0.3774 - precision: 0.7332 - acc: 0.8451 - val_loss: 3.2822 - val_precision: 0.0000e+00 - val_acc: 0.7964\n",
            "Epoch 3/5\n",
            "6700/6700 [==============================] - 41s 6ms/step - loss: 0.3607 - precision: 0.7584 - acc: 0.8534 - val_loss: 7.4667 - val_precision: 0.2279 - val_acc: 0.5242\n",
            "Epoch 4/5\n",
            "6700/6700 [==============================] - 41s 6ms/step - loss: 0.3556 - precision: 0.7573 - acc: 0.8539 - val_loss: 3.2822 - val_precision: 0.0000e+00 - val_acc: 0.7964\n",
            "Epoch 5/5\n",
            "6700/6700 [==============================] - 40s 6ms/step - loss: 0.3509 - precision: 0.7576 - acc: 0.8569 - val_loss: 3.2822 - val_precision: 0.0000e+00 - val_acc: 0.7964\n",
            "3300/3300 [==============================] - 0s 74us/step\n",
            "Train on 6700 samples, validate on 3300 samples\n",
            "Epoch 1/5\n",
            "6700/6700 [==============================] - 41s 6ms/step - loss: 0.4405 - precision: 0.6364 - acc: 0.8142 - val_loss: 8.0179 - val_precision: 0.1467 - val_acc: 0.4985\n",
            "Epoch 2/5\n",
            "6700/6700 [==============================] - 41s 6ms/step - loss: 0.3811 - precision: 0.7170 - acc: 0.8448 - val_loss: 8.4188 - val_precision: 0.1805 - val_acc: 0.4724\n",
            "Epoch 3/5\n",
            "6700/6700 [==============================] - 41s 6ms/step - loss: 0.3559 - precision: 0.7325 - acc: 0.8519 - val_loss: 7.2985 - val_precision: 0.1324 - val_acc: 0.5439\n",
            "Epoch 4/5\n",
            "6700/6700 [==============================] - 42s 6ms/step - loss: 0.3493 - precision: 0.7515 - acc: 0.8579 - val_loss: 8.5960 - val_precision: 0.1812 - val_acc: 0.4615\n",
            "Epoch 5/5\n",
            "6700/6700 [==============================] - 41s 6ms/step - loss: 0.3464 - precision: 0.7435 - acc: 0.8575 - val_loss: 8.6372 - val_precision: 0.1799 - val_acc: 0.4588\n",
            "3300/3300 [==============================] - 0s 76us/step\n",
            "{10: [0.873496046751461, 0.7774936061381074], 30: [0.8861933642525865, 0.710261569416499], 50: [0.8851985559566787, 0.6679245283018868], 70: [0.8854500177872643, 0.7157464212678937], 90: [0.8481675392670157, 0.8524590163934426], 110: [0.878397212543554, 0.7511627906976744]}\n"
          ],
          "name": "stdout"
        }
      ]
    },
    {
      "cell_type": "code",
      "metadata": {
        "id": "QibFmuQwHrHC",
        "colab_type": "code",
        "colab": {
          "base_uri": "https://localhost:8080/",
          "height": 339
        },
        "outputId": "036a8781-f491-4071-fa66-0028d1271b09"
      },
      "source": [
        "from keras.callbacks import EarlyStopping\n",
        "model=Sequential()\n",
        "# Add an input layer shape depends on shape of X. We have 11 columns in X.\n",
        "model.add(Dense(11, activation='relu', input_shape=(11,)))\n",
        "\n",
        "# Add one hidden layer \n",
        "model.add(Dense(90, activation='relu'))\n",
        "\n",
        "\n",
        "\n",
        "# Add an output layer \n",
        "model.add(Dense(1, activation='sigmoid'))\n",
        "\n",
        "\n",
        "model.compile(loss='binary_crossentropy',\n",
        "              optimizer='adam',\n",
        "              metrics=[keras_metrics.precision(),'accuracy'])\n",
        "                   \n",
        "early_stopping_monitor = EarlyStopping(patience=2)\n",
        "model.fit(X_train_std, y_train,epochs=30, batch_size=1, verbose=1,validation_data=(X_test,y_test),callbacks=[early_stopping_monitor])\n",
        "\n",
        "model.evaluate(X_test_std,y_test)\n",
        "y_pred=model.predict_classes(X_test_std)\n",
        "report=classification_report(y_test,y_pred)\n",
        "report1=classification_report(y_test,y_pred,output_dict=True)\n",
        "print(report)\n",
        "\n",
        "                                       \n",
        "                                    "
      ],
      "execution_count": 21,
      "outputs": [
        {
          "output_type": "stream",
          "text": [
            "Train on 6700 samples, validate on 3300 samples\n",
            "Epoch 1/30\n",
            "6700/6700 [==============================] - 42s 6ms/step - loss: 0.4214 - precision: 0.6696 - acc: 0.8191 - val_loss: 3.2871 - val_precision: 0.0000e+00 - val_acc: 0.7961\n",
            "Epoch 2/30\n",
            "6700/6700 [==============================] - 42s 6ms/step - loss: 0.3644 - precision: 0.7260 - acc: 0.8497 - val_loss: 8.4940 - val_precision: 0.2445 - val_acc: 0.4676\n",
            "Epoch 3/30\n",
            "6700/6700 [==============================] - 42s 6ms/step - loss: 0.3549 - precision: 0.7490 - acc: 0.8549 - val_loss: 4.7155 - val_precision: 0.2727 - val_acc: 0.7055\n",
            "3300/3300 [==============================] - 0s 84us/step\n",
            "              precision    recall  f1-score   support\n",
            "\n",
            "           0       0.86      0.98      0.92      2628\n",
            "           1       0.81      0.40      0.54       672\n",
            "\n",
            "    accuracy                           0.86      3300\n",
            "   macro avg       0.84      0.69      0.73      3300\n",
            "weighted avg       0.85      0.86      0.84      3300\n",
            "\n"
          ],
          "name": "stdout"
        }
      ]
    },
    {
      "cell_type": "markdown",
      "metadata": {
        "id": "0T9WRo6OYa6H",
        "colab_type": "text"
      },
      "source": [
        "**Paweł**"
      ]
    },
    {
      "cell_type": "code",
      "metadata": {
        "id": "XiJv6sqh63Lv",
        "colab_type": "code",
        "colab": {}
      },
      "source": [
        "\n",
        "df2=pd.read_csv(url).drop([\"CustomerId\", \"Surname\", \"RowNumber\", \"HasCrCard\"],\n",
        "        axis=1)\n",
        "df2 = pd.concat([df2, pd.get_dummies(df2[[\"Gender\", \"Geography\"]], drop_first=True)],\n",
        "               sort=False, axis=1).drop(df2[[\"Gender\", \"Geography\"]], axis=1)\n",
        "\n",
        "X2=df2.drop(['Exited'], axis=1)\n",
        "y2=df2['Exited']\n",
        "\n",
        "X_train2, X_test2, y_train2, y_test2 = train_test_split(X2, y2, test_size=0.2, random_state=42,stratify=y2)\n",
        "\n",
        "\n",
        "scaler2=StandardScaler().fit(X_train2)\n",
        "X_train_std2 = scaler2.transform(X_train2)\n",
        "\n",
        "X_test_std2 = scaler2.transform(X_test2)\n",
        "\n",
        "X_std2=scaler2.transform(X2)\n",
        "\n",
        "class_weight = {\n",
        "                0: 3.,\n",
        "                1: 1.\n",
        "               }\n",
        "\n",
        "es = EarlyStopping(monitor='val_precision', mode='max', verbose=1, patience = 3)\n",
        "\n",
        "\n"
      ],
      "execution_count": 0,
      "outputs": []
    },
    {
      "cell_type": "code",
      "metadata": {
        "id": "96_dF6xrYklP",
        "colab_type": "code",
        "outputId": "acbd21f0-d7b4-4853-8fa9-1ab542ef407a",
        "colab": {
          "base_uri": "https://localhost:8080/",
          "height": 831
        }
      },
      "source": [
        "model2=Sequential()\n",
        "model2.add(Dense(20, activation='relu', input_shape=(10,)))\n",
        "\n",
        "\n",
        "model2.add(Dropout(0.1,))\n",
        "model2.add(Dense(75, activation='relu'))\n",
        "\n",
        "\n",
        "model2.add(Dense(1, activation='sigmoid'))\n",
        "\n",
        "\n",
        "model2.compile(loss='binary_crossentropy',\n",
        "              optimizer='adam',\n",
        "              metrics=[keras_metrics.precision(),'accuracy'])\n",
        "                   \n",
        "model2.fit(X_train_std2, y_train2,epochs=20, batch_size=2, verbose=1, validation_split = 0.25, callbacks = [PlotLossesKeras(), es], class_weight=class_weight)\n",
        "\n"
      ],
      "execution_count": 0,
      "outputs": [
        {
          "output_type": "display_data",
          "data": {
            "image/png": "[encoded data removed]",
            "text/plain": [
              "<Figure size 864x864 with 3 Axes>"
            ]
          },
          "metadata": {
            "tags": []
          }
        },
        {
          "output_type": "stream",
          "text": [
            "Log-loss (cost function):\n",
            "training   (min:    0.507, max:    0.651, cur:    0.507)\n",
            "validation (min:    0.498, max:    0.603, cur:    0.498)\n",
            "\n",
            "precision:\n",
            "training   (min:    0.839, max:    0.907, cur:    0.899)\n",
            "validation (min:    0.851, max:    0.948, cur:    0.934)\n",
            "\n",
            "Accuracy:\n",
            "training   (min:    0.800, max:    0.845, cur:    0.845)\n",
            "validation (min:    0.805, max:    0.856, cur:    0.847)\n",
            "Epoch 00008: early stopping\n"
          ],
          "name": "stdout"
        },
        {
          "output_type": "execute_result",
          "data": {
            "text/plain": [
              "<keras.callbacks.History at 0x7f6b71c050f0>"
            ]
          },
          "metadata": {
            "tags": []
          },
          "execution_count": 17
        }
      ]
    },
    {
      "cell_type": "code",
      "metadata": {
        "id": "xeeayTMgOIi0",
        "colab_type": "code",
        "outputId": "1152a5c9-a44c-49fa-999f-1603929ec2c4",
        "colab": {
          "base_uri": "https://localhost:8080/",
          "height": 170
        }
      },
      "source": [
        "y_pred2=model2.predict_classes(X_test_std2)\n",
        "\n",
        "report=classification_report(y_test2,y_pred2,output_dict=False)\n",
        "print(report)"
      ],
      "execution_count": 0,
      "outputs": [
        {
          "output_type": "stream",
          "text": [
            "              precision    recall  f1-score   support\n",
            "\n",
            "           0       0.84      1.00      0.91      1593\n",
            "           1       0.95      0.26      0.40       407\n",
            "\n",
            "    accuracy                           0.85      2000\n",
            "   macro avg       0.90      0.63      0.66      2000\n",
            "weighted avg       0.86      0.85      0.81      2000\n",
            "\n"
          ],
          "name": "stdout"
        }
      ]
    },
    {
      "cell_type": "code",
      "metadata": {
        "id": "xIG2Hk1iG81L",
        "colab_type": "code",
        "colab": {}
      },
      "source": [
        ""
      ],
      "execution_count": 0,
      "outputs": []
    }
  ]
}