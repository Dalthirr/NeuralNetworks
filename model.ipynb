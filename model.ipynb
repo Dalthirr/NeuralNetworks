{
  "nbformat": 4,
  "nbformat_minor": 0,
  "metadata": {
    "colab": {
      "name": "model.ipynb",
      "version": "0.3.2",
      "provenance": [],
      "toc_visible": true
    },
    "language_info": {
      "codemirror_mode": {
        "name": "ipython",
        "version": 3
      },
      "file_extension": ".py",
      "mimetype": "text/x-python",
      "name": "python",
      "nbconvert_exporter": "python",
      "pygments_lexer": "ipython3",
      "version": "3.6.8"
    },
    "kernelspec": {
      "name": "python3",
      "display_name": "Python 3"
    },
    "accelerator": "GPU"
  },
  "cells": [
    {
      "cell_type": "markdown",
      "metadata": {
        "id": "kP7he45N2HRe",
        "colab_type": "text"
      },
      "source": [
        "## Import necessary modules"
      ]
    },
    {
      "cell_type": "code",
      "metadata": {
        "id": "H28CM2rV2HRj",
        "colab_type": "code",
        "colab": {}
      },
      "source": [
        "import numpy as np\n",
        "import pandas as pd\n",
        "import sklearn\n",
        "import keras\n",
        "import seaborn\n",
        "import matplotlib.pyplot as plt\n",
        "import tensorflow\n",
        "from sklearn.model_selection import train_test_split\n",
        "from sklearn.preprocessing import StandardScaler"
      ],
      "execution_count": 0,
      "outputs": []
    },
    {
      "cell_type": "code",
      "metadata": {
        "id": "LzEZclYs2HRy",
        "colab_type": "code",
        "outputId": "862546b4-e349-41e9-f3d1-41ce228e256a",
        "colab": {
          "base_uri": "https://localhost:8080/",
          "height": 302
        }
      },
      "source": [
        "url = 'https://raw.githubusercontent.com/Dalthirr/NeuralNetworks/master/Churn_Modelling.csv'\n",
        "df=pd.read_csv(url) #Pobieranie danych\n",
        "df = df.drop([\"CustomerId\", \"Surname\", \"RowNumber\"],\n",
        "        axis=1)\n",
        "df = pd.concat([df, pd.get_dummies(df[[\"Gender\", \"Geography\"]], drop_first=True)],\n",
        "               sort=False, axis=1).drop(df[[\"Gender\", \"Geography\"]], axis=1)\n",
        "df.info()"
      ],
      "execution_count": 4,
      "outputs": [
        {
          "output_type": "stream",
          "text": [
            "<class 'pandas.core.frame.DataFrame'>\n",
            "RangeIndex: 10000 entries, 0 to 9999\n",
            "Data columns (total 12 columns):\n",
            "CreditScore          10000 non-null int64\n",
            "Age                  10000 non-null int64\n",
            "Tenure               10000 non-null int64\n",
            "Balance              10000 non-null float64\n",
            "NumOfProducts        10000 non-null int64\n",
            "HasCrCard            10000 non-null int64\n",
            "IsActiveMember       10000 non-null int64\n",
            "EstimatedSalary      10000 non-null float64\n",
            "Exited               10000 non-null int64\n",
            "Gender_Male          10000 non-null uint8\n",
            "Geography_Germany    10000 non-null uint8\n",
            "Geography_Spain      10000 non-null uint8\n",
            "dtypes: float64(2), int64(7), uint8(3)\n",
            "memory usage: 732.5 KB\n"
          ],
          "name": "stdout"
        }
      ]
    },
    {
      "cell_type": "code",
      "metadata": {
        "id": "91OO5oBWB1xE",
        "colab_type": "code",
        "colab": {}
      },
      "source": [
        "X=(df.drop(['Exited'], axis=1))\n",
        "y=(df.Exited)\n",
        "X_train, X_test, y_train, y_test = train_test_split(X, y, test_size=0.33, random_state=42,stratify=y)\n",
        "\n",
        "scaler=StandardScaler().fit(X_train)\n",
        "X_train = scaler.transform(X_train)\n",
        "\n",
        "X_test = scaler.transform(X_test)\n",
        "\n",
        "\n",
        "\n"
      ],
      "execution_count": 0,
      "outputs": []
    },
    {
      "cell_type": "code",
      "metadata": {
        "id": "5uOxdI7HIbXc",
        "colab_type": "code",
        "outputId": "442b13cd-fdfc-4e68-9f6d-d546e467b421",
        "colab": {
          "base_uri": "https://localhost:8080/",
          "height": 168
        }
      },
      "source": [
        "# Import `Sequential` from `keras.models`\n",
        "from keras.models import Sequential\n",
        "\n",
        "# Import `Dense` from `keras.layers`\n",
        "from keras.layers import Dense\n",
        "\n",
        "# Creating Model, I will build simple networt using Sequential.\n",
        "model=Sequential()\n",
        "# Add an input layer shape depends on shape of X. We have 11 columns in X.\n",
        "model.add(Dense(11, activation='relu', input_shape=(11,)))\n",
        "\n",
        "# Add one hidden layer \n",
        "model.add(Dense(34, activation='relu'))\n",
        "\n",
        "\n",
        "\n",
        "# Add an output layer \n",
        "model.add(Dense(1, activation='sigmoid'))\n",
        "\n",
        "\n",
        "model.compile(loss='binary_crossentropy',\n",
        "              optimizer='adam',\n",
        "              metrics=['accuracy'])\n",
        "                   \n",
        "model.fit(X_train, y_train,epochs=3, batch_size=1, verbose=1,validation_data=(X_test,y_test))\n",
        "\n",
        "model.evaluate(X_test,y_test)\n",
        "\n",
        "#model.predict(X_test)"
      ],
      "execution_count": 8,
      "outputs": [
        {
          "output_type": "stream",
          "text": [
            "Train on 6700 samples, validate on 3300 samples\n",
            "Epoch 1/3\n",
            "6700/6700 [==============================] - 23s 3ms/step - loss: 0.4474 - acc: 0.8136 - val_loss: 0.4007 - val_acc: 0.8291\n",
            "Epoch 2/3\n",
            "6700/6700 [==============================] - 23s 3ms/step - loss: 0.3851 - acc: 0.8410 - val_loss: 0.3557 - val_acc: 0.8570\n",
            "Epoch 3/3\n",
            "6700/6700 [==============================] - 22s 3ms/step - loss: 0.3550 - acc: 0.8507 - val_loss: 0.3505 - val_acc: 0.8533\n",
            "3300/3300 [==============================] - 0s 34us/step\n"
          ],
          "name": "stdout"
        },
        {
          "output_type": "execute_result",
          "data": {
            "text/plain": [
              "[0.35046913461251694, 0.8533333333333334]"
            ]
          },
          "metadata": {
            "tags": []
          },
          "execution_count": 8
        }
      ]
    }
  ]
}