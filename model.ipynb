{
  "nbformat": 4,
  "nbformat_minor": 0,
  "metadata": {
    "colab": {
      "name": "model.ipynb",
      "version": "0.3.2",
      "provenance": [],
      "toc_visible": true
    },
    "language_info": {
      "codemirror_mode": {
        "name": "ipython",
        "version": 3
      },
      "file_extension": ".py",
      "mimetype": "text/x-python",
      "name": "python",
      "nbconvert_exporter": "python",
      "pygments_lexer": "ipython3",
      "version": "3.6.8"
    },
    "kernelspec": {
      "display_name": "Python 3",
      "language": "python",
      "name": "python3"
    }
  },
  "cells": [
    {
      "cell_type": "markdown",
      "metadata": {
        "id": "kP7he45N2HRe",
        "colab_type": "text"
      },
      "source": [
        "## Import necessary modules"
      ]
    },
    {
      "cell_type": "code",
      "metadata": {
        "id": "H28CM2rV2HRj",
        "colab_type": "code",
        "colab": {}
      },
      "source": [
        "import numpy as np\n",
        "import pandas as pd\n",
        "import sklearn\n",
        "import keras\n",
        "import seaborn\n",
        "import matplotlib.pyplot as plt\n",
        "import tensorflow\n",
        "from sklearn.model_selection import train_test_split\n",
        "from sklearn.preprocessing import StandardScaler"
      ],
      "execution_count": 0,
      "outputs": []
    },
    {
      "cell_type": "code",
      "metadata": {
        "id": "LzEZclYs2HRy",
        "colab_type": "code",
        "colab": {
          "base_uri": "https://localhost:8080/",
          "height": 302
        },
        "outputId": "9e639b22-a44d-422c-a4e1-e983633500ee"
      },
      "source": [
        "url = 'https://raw.githubusercontent.com/Dalthirr/NeuralNetworks/master/Churn_Modelling.csv'\n",
        "df=pd.read_csv(url) #Pobieranie danych\n",
        "df = df.drop([\"CustomerId\", \"Surname\", \"RowNumber\"],\n",
        "        axis=1)\n",
        "df = pd.concat([df, pd.get_dummies(df[[\"Gender\", \"Geography\"]], drop_first=True)],\n",
        "               sort=False, axis=1).drop(df[[\"Gender\", \"Geography\"]], axis=1)\n",
        "df.info()"
      ],
      "execution_count": 24,
      "outputs": [
        {
          "output_type": "stream",
          "text": [
            "<class 'pandas.core.frame.DataFrame'>\n",
            "RangeIndex: 10000 entries, 0 to 9999\n",
            "Data columns (total 12 columns):\n",
            "CreditScore          10000 non-null int64\n",
            "Age                  10000 non-null int64\n",
            "Tenure               10000 non-null int64\n",
            "Balance              10000 non-null float64\n",
            "NumOfProducts        10000 non-null int64\n",
            "HasCrCard            10000 non-null int64\n",
            "IsActiveMember       10000 non-null int64\n",
            "EstimatedSalary      10000 non-null float64\n",
            "Exited               10000 non-null int64\n",
            "Gender_Male          10000 non-null uint8\n",
            "Geography_Germany    10000 non-null uint8\n",
            "Geography_Spain      10000 non-null uint8\n",
            "dtypes: float64(2), int64(7), uint8(3)\n",
            "memory usage: 732.5 KB\n"
          ],
          "name": "stdout"
        }
      ]
    },
    {
      "cell_type": "code",
      "metadata": {
        "id": "91OO5oBWB1xE",
        "colab_type": "code",
        "colab": {
          "base_uri": "https://localhost:8080/",
          "height": 138
        },
        "outputId": "ce055727-6c70-496e-819c-e43f742122d5"
      },
      "source": [
        "X=(df.drop(['Exited'], axis=1))\n",
        "y=(df.Exited)\n",
        "X_train, X_test, y_train, y_test = train_test_split(X, y, test_size=0.33, random_state=42)\n",
        "\n",
        "scaler=StandardScaler().fit(X_train)\n",
        "X_train = scaler.transform(X_train)\n",
        "\n",
        "X_test = scaler.transform(X_test)\n"
      ],
      "execution_count": 23,
      "outputs": [
        {
          "output_type": "stream",
          "text": [
            "/usr/local/lib/python3.6/dist-packages/sklearn/preprocessing/data.py:645: DataConversionWarning: Data with input dtype uint8, int64, float64 were all converted to float64 by StandardScaler.\n",
            "  return self.partial_fit(X, y)\n",
            "/usr/local/lib/python3.6/dist-packages/ipykernel_launcher.py:6: DataConversionWarning: Data with input dtype uint8, int64, float64 were all converted to float64 by StandardScaler.\n",
            "  \n",
            "/usr/local/lib/python3.6/dist-packages/ipykernel_launcher.py:8: DataConversionWarning: Data with input dtype uint8, int64, float64 were all converted to float64 by StandardScaler.\n",
            "  \n"
          ],
          "name": "stderr"
        }
      ]
    },
    {
      "cell_type": "code",
      "metadata": {
        "id": "5uOxdI7HIbXc",
        "colab_type": "code",
        "colab": {
          "base_uri": "https://localhost:8080/",
          "height": 826
        },
        "outputId": "ad91e505-9494-4326-f77e-7a3b85cff9ec"
      },
      "source": [
        "# Import `Sequential` from `keras.models`\n",
        "from keras.models import Sequential\n",
        "\n",
        "# Import `Dense` from `keras.layers`\n",
        "from keras.layers import Dense\n",
        "\n",
        "# Creating Model, I will build simple networt using Sequential.\n",
        "model=Sequential()\n",
        "# Add an input layer shape depends on shape of X. We have 11 columns in X.\n",
        "model.add(Dense(12, activation='relu', input_shape=(11,)))\n",
        "\n",
        "# Add one hidden layer \n",
        "model.add(Dense(8, activation='relu'))\n",
        "\n",
        "# Add an output layer \n",
        "model.add(Dense(1, activation='sigmoid'))\n",
        "\n",
        "\n",
        "model.compile(loss='binary_crossentropy',\n",
        "              optimizer='adam',\n",
        "              metrics=['accuracy'])\n",
        "                   \n",
        "model.fit(X_train, y_train,epochs=20, batch_size=1, verbose=1)\n"
      ],
      "execution_count": 26,
      "outputs": [
        {
          "output_type": "stream",
          "text": [
            "WARNING:tensorflow:From /usr/local/lib/python3.6/dist-packages/tensorflow/python/framework/op_def_library.py:263: colocate_with (from tensorflow.python.framework.ops) is deprecated and will be removed in a future version.\n",
            "Instructions for updating:\n",
            "Colocations handled automatically by placer.\n",
            "WARNING:tensorflow:From /usr/local/lib/python3.6/dist-packages/tensorflow/python/ops/math_ops.py:3066: to_int32 (from tensorflow.python.ops.math_ops) is deprecated and will be removed in a future version.\n",
            "Instructions for updating:\n",
            "Use tf.cast instead.\n",
            "Epoch 1/20\n",
            "6700/6700 [==============================] - 7s 1ms/step - loss: 0.4424 - acc: 0.8031\n",
            "Epoch 2/20\n",
            "6700/6700 [==============================] - 6s 949us/step - loss: 0.3793 - acc: 0.8454\n",
            "Epoch 3/20\n",
            "6700/6700 [==============================] - 6s 954us/step - loss: 0.3555 - acc: 0.8558\n",
            "Epoch 4/20\n",
            "6700/6700 [==============================] - 6s 963us/step - loss: 0.3486 - acc: 0.8582\n",
            "Epoch 5/20\n",
            "6700/6700 [==============================] - 6s 957us/step - loss: 0.3472 - acc: 0.8572\n",
            "Epoch 6/20\n",
            "6700/6700 [==============================] - 6s 957us/step - loss: 0.3437 - acc: 0.8578\n",
            "Epoch 7/20\n",
            "6700/6700 [==============================] - 6s 962us/step - loss: 0.3428 - acc: 0.8587\n",
            "Epoch 8/20\n",
            "6700/6700 [==============================] - 6s 952us/step - loss: 0.3393 - acc: 0.8585\n",
            "Epoch 9/20\n",
            "6700/6700 [==============================] - 6s 956us/step - loss: 0.3403 - acc: 0.8597\n",
            "Epoch 10/20\n",
            "6700/6700 [==============================] - 6s 955us/step - loss: 0.3388 - acc: 0.8613\n",
            "Epoch 11/20\n",
            "6700/6700 [==============================] - 6s 957us/step - loss: 0.3388 - acc: 0.8618\n",
            "Epoch 12/20\n",
            "6700/6700 [==============================] - 6s 945us/step - loss: 0.3380 - acc: 0.8610\n",
            "Epoch 13/20\n",
            "6700/6700 [==============================] - 6s 945us/step - loss: 0.3358 - acc: 0.8612\n",
            "Epoch 14/20\n",
            "6700/6700 [==============================] - 6s 937us/step - loss: 0.3373 - acc: 0.8609\n",
            "Epoch 15/20\n",
            "6700/6700 [==============================] - 6s 951us/step - loss: 0.3360 - acc: 0.8604\n",
            "Epoch 16/20\n",
            "6700/6700 [==============================] - 6s 947us/step - loss: 0.3357 - acc: 0.8610\n",
            "Epoch 17/20\n",
            "6700/6700 [==============================] - 6s 956us/step - loss: 0.3365 - acc: 0.8597\n",
            "Epoch 18/20\n",
            "6700/6700 [==============================] - 7s 1ms/step - loss: 0.3352 - acc: 0.8609\n",
            "Epoch 19/20\n",
            "6700/6700 [==============================] - 7s 995us/step - loss: 0.3349 - acc: 0.8615\n",
            "Epoch 20/20\n",
            "6700/6700 [==============================] - 6s 942us/step - loss: 0.3350 - acc: 0.8600\n"
          ],
          "name": "stdout"
        },
        {
          "output_type": "execute_result",
          "data": {
            "text/plain": [
              "<keras.callbacks.History at 0x7f42f086c390>"
            ]
          },
          "metadata": {
            "tags": []
          },
          "execution_count": 26
        }
      ]
    }
  ]
}