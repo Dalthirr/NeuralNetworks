{
  "nbformat": 4,
  "nbformat_minor": 0,
  "metadata": {
    "colab": {
      "name": "model.ipynb",
      "version": "0.3.2",
      "provenance": [],
      "toc_visible": true
    },
    "language_info": {
      "codemirror_mode": {
        "name": "ipython",
        "version": 3
      },
      "file_extension": ".py",
      "mimetype": "text/x-python",
      "name": "python",
      "nbconvert_exporter": "python",
      "pygments_lexer": "ipython3",
      "version": "3.6.8"
    },
    "kernelspec": {
      "name": "python3",
      "display_name": "Python 3"
    },
    "accelerator": "GPU"
  },
  "cells": [
    {
      "cell_type": "markdown",
      "metadata": {
        "id": "kP7he45N2HRe",
        "colab_type": "text"
      },
      "source": [
        "## Import necessary modules"
      ]
    },
    {
      "cell_type": "code",
      "metadata": {
        "id": "H28CM2rV2HRj",
        "colab_type": "code",
        "outputId": "3c2b7589-cc30-4357-e2ae-48bf167a42bc",
        "colab": {
          "base_uri": "https://localhost:8080/",
          "height": 34
        }
      },
      "source": [
        "import numpy as np\n",
        "import pandas as pd\n",
        "import sklearn\n",
        "import keras\n",
        "import seaborn\n",
        "import matplotlib.pyplot as plt\n",
        "import tensorflow\n",
        "from sklearn.model_selection import train_test_split\n",
        "from sklearn.preprocessing import StandardScaler"
      ],
      "execution_count": 0,
      "outputs": [
        {
          "output_type": "stream",
          "text": [
            "Using TensorFlow backend.\n"
          ],
          "name": "stderr"
        }
      ]
    },
    {
      "cell_type": "code",
      "metadata": {
        "id": "LzEZclYs2HRy",
        "colab_type": "code",
        "outputId": "8822d1ca-1ac7-41ec-9482-c424ea27341d",
        "colab": {
          "base_uri": "https://localhost:8080/",
          "height": 302
        }
      },
      "source": [
        "url = 'https://raw.githubusercontent.com/Dalthirr/NeuralNetworks/master/Churn_Modelling.csv'\n",
        "df=pd.read_csv(url) #Pobieranie danych\n",
        "df = df.drop([\"CustomerId\", \"Surname\", \"RowNumber\"],\n",
        "        axis=1)\n",
        "df = pd.concat([df, pd.get_dummies(df[[\"Gender\", \"Geography\"]], drop_first=True)],\n",
        "               sort=False, axis=1).drop(df[[\"Gender\", \"Geography\"]], axis=1)\n",
        "df.info()"
      ],
      "execution_count": 0,
      "outputs": [
        {
          "output_type": "stream",
          "text": [
            "<class 'pandas.core.frame.DataFrame'>\n",
            "RangeIndex: 10000 entries, 0 to 9999\n",
            "Data columns (total 12 columns):\n",
            "CreditScore          10000 non-null int64\n",
            "Age                  10000 non-null int64\n",
            "Tenure               10000 non-null int64\n",
            "Balance              10000 non-null float64\n",
            "NumOfProducts        10000 non-null int64\n",
            "HasCrCard            10000 non-null int64\n",
            "IsActiveMember       10000 non-null int64\n",
            "EstimatedSalary      10000 non-null float64\n",
            "Exited               10000 non-null int64\n",
            "Gender_Male          10000 non-null uint8\n",
            "Geography_Germany    10000 non-null uint8\n",
            "Geography_Spain      10000 non-null uint8\n",
            "dtypes: float64(2), int64(7), uint8(3)\n",
            "memory usage: 732.5 KB\n"
          ],
          "name": "stdout"
        }
      ]
    },
    {
      "cell_type": "code",
      "metadata": {
        "id": "91OO5oBWB1xE",
        "colab_type": "code",
        "colab": {}
      },
      "source": [
        "X=(df.drop(['Exited'], axis=1))\n",
        "y=(df.Exited)\n",
        "X_train, X_test, y_train, y_test = train_test_split(X, y, test_size=0.33, random_state=42,stratify=y)\n",
        "\n",
        "scaler=StandardScaler().fit(X_train)\n",
        "X_train = scaler.transform(X_train)\n",
        "\n",
        "X_test = scaler.transform(X_test)\n",
        "\n",
        "\n",
        "\n"
      ],
      "execution_count": 0,
      "outputs": []
    },
    {
      "cell_type": "code",
      "metadata": {
        "id": "5uOxdI7HIbXc",
        "colab_type": "code",
        "outputId": "8fec9291-5932-4c9f-b0e0-bcc5269ea972",
        "colab": {
          "base_uri": "https://localhost:8080/",
          "height": 316
        }
      },
      "source": [
        "# Import `Sequential` from `keras.models`\n",
        "from keras.models import Sequential\n",
        "\n",
        "# Import `Dense` from `keras.layers`\n",
        "from keras.layers import Dense\n",
        "\n",
        "# Creating Model, I will build simple networt using Sequential.\n",
        "model=Sequential()\n",
        "# Add an input layer shape depends on shape of X. We have 11 columns in X.\n",
        "model.add(Dense(11, activation='relu', input_shape=(11,)))\n",
        "\n",
        "# Add one hidden layer \n",
        "model.add(Dense(12, activation='relu'))\n",
        "\n",
        "\n",
        "\n",
        "# Add an output layer \n",
        "model.add(Dense(1, activation='sigmoid'))\n",
        "\n",
        "\n",
        "model.compile(loss='binary_crossentropy',\n",
        "              optimizer='adam',\n",
        "              metrics=['accuracy'])\n",
        "                   \n",
        "model.fit(X_train, y_train,epochs=3, batch_size=1, verbose=1,validation_data=(X_test,y_test))\n",
        "\n",
        "model.evaluate(X_test,y_test)\n",
        "\n",
        "#model.predict(X_test)"
      ],
      "execution_count": 1,
      "outputs": [
        {
          "output_type": "stream",
          "text": [
            "Using TensorFlow backend.\n"
          ],
          "name": "stderr"
        },
        {
          "output_type": "stream",
          "text": [
            "WARNING:tensorflow:From /usr/local/lib/python3.6/dist-packages/tensorflow/python/framework/op_def_library.py:263: colocate_with (from tensorflow.python.framework.ops) is deprecated and will be removed in a future version.\n",
            "Instructions for updating:\n",
            "Colocations handled automatically by placer.\n"
          ],
          "name": "stdout"
        },
        {
          "output_type": "error",
          "ename": "NameError",
          "evalue": "ignored",
          "traceback": [
            "\u001b[0;31m---------------------------------------------------------------------------\u001b[0m",
            "\u001b[0;31mNameError\u001b[0m                                 Traceback (most recent call last)",
            "\u001b[0;32m<ipython-input-1-c0c4790c6147>\u001b[0m in \u001b[0;36m<module>\u001b[0;34m()\u001b[0m\n\u001b[1;32m     22\u001b[0m               metrics=['accuracy'])\n\u001b[1;32m     23\u001b[0m \u001b[0;34m\u001b[0m\u001b[0m\n\u001b[0;32m---> 24\u001b[0;31m \u001b[0mmodel\u001b[0m\u001b[0;34m.\u001b[0m\u001b[0mfit\u001b[0m\u001b[0;34m(\u001b[0m\u001b[0mX_train\u001b[0m\u001b[0;34m,\u001b[0m \u001b[0my_train\u001b[0m\u001b[0;34m,\u001b[0m\u001b[0mepochs\u001b[0m\u001b[0;34m=\u001b[0m\u001b[0;36m3\u001b[0m\u001b[0;34m,\u001b[0m \u001b[0mbatch_size\u001b[0m\u001b[0;34m=\u001b[0m\u001b[0;36m1\u001b[0m\u001b[0;34m,\u001b[0m \u001b[0mverbose\u001b[0m\u001b[0;34m=\u001b[0m\u001b[0;36m1\u001b[0m\u001b[0;34m,\u001b[0m\u001b[0mvalidation_data\u001b[0m\u001b[0;34m=\u001b[0m\u001b[0;34m(\u001b[0m\u001b[0mX_test\u001b[0m\u001b[0;34m,\u001b[0m\u001b[0my_test\u001b[0m\u001b[0;34m)\u001b[0m\u001b[0;34m)\u001b[0m\u001b[0;34m\u001b[0m\u001b[0;34m\u001b[0m\u001b[0m\n\u001b[0m\u001b[1;32m     25\u001b[0m \u001b[0;34m\u001b[0m\u001b[0m\n\u001b[1;32m     26\u001b[0m \u001b[0mmodel\u001b[0m\u001b[0;34m.\u001b[0m\u001b[0mevaluate\u001b[0m\u001b[0;34m(\u001b[0m\u001b[0mX_test\u001b[0m\u001b[0;34m,\u001b[0m\u001b[0my_test\u001b[0m\u001b[0;34m)\u001b[0m\u001b[0;34m\u001b[0m\u001b[0;34m\u001b[0m\u001b[0m\n",
            "\u001b[0;31mNameError\u001b[0m: name 'X_train' is not defined"
          ]
        }
      ]
    }
  ]
}