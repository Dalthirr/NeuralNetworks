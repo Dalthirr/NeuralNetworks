{
 "cells": [
  {
   "cell_type": "markdown",
   "metadata": {},
   "source": [
    "## Import necessary modules and data"
   ]
  },
  {
   "cell_type": "code",
   "execution_count": 1,
   "metadata": {},
   "outputs": [
    {
     "name": "stderr",
     "output_type": "stream",
     "text": [
      "Using TensorFlow backend.\n"
     ]
    }
   ],
   "source": [
    "import numpy as np\n",
    "import pandas as pd\n",
    "import seaborn\n",
    "import matplotlib.pyplot as plt\n",
    "from sklearn.model_selection import train_test_split\n",
    "from sklearn.preprocessing import StandardScaler\n",
    "from sklearn.metrics import classification_report, confusion_matrix\n",
    "from sklearn.metrics import precision_recall_fscore_support as score\n",
    "from keras_metrics import precision\n",
    "from sklearn.model_selection import cross_validate\n",
    "from livelossplot import PlotLossesKeras\n",
    "from keras.models import Sequential\n",
    "from keras.callbacks import EarlyStopping\n",
    "from keras.layers import Dense\n",
    "from keras.layers import Dropout\n",
    "from keras_metrics import precision, binary_recall, f1_score\n",
    "import random\n",
    "\n"
   ]
  },
  {
   "cell_type": "markdown",
   "metadata": {},
   "source": [
    "## Wczytujemy poprzednio utworzone zbiory"
   ]
  },
  {
   "cell_type": "code",
   "execution_count": 2,
   "metadata": {},
   "outputs": [],
   "source": [
    "X = pd.read_csv('../data/cleaned_data.csv', index_col=0)\n",
    "y = pd.read_csv('../data/labels.csv', header = None)\n",
    "\n",
    "X_test = pd.read_csv('../data/X_test.csv', index_col=0)\n",
    "X_train = pd.read_csv('../data/X_train.csv', index_col=0)\n",
    "X_train_std = pd.read_csv('../data/X_train_std.csv', index_col=0)\n",
    "X_test_std = pd.read_csv('../data/X_test_std.csv', index_col=0)\n",
    "y_train = pd.read_csv('../data/y_train.csv', index_col=0)\n",
    "y_test = pd.read_csv('../data/y_test.csv', index_col=0)"
   ]
  },
  {
   "cell_type": "markdown",
   "metadata": {},
   "source": [
    "Zbuduję przykładową sieć, która składa się z warstwy wejściowej, jednej warstwy ukrytej i  warstwy wyjściowej.\n",
    "Kompilujemy model przy użyciu \n",
    "\n",
    "loss_function='binary_crossentropy';\n",
    "\n",
    "optimizer='Adam'.\n",
    "\n",
    "\n",
    "Naszą główną metryką będzie **precyzja** oznaczająca procent osób prawidłowie określonych jako zagrożone odejściem."
   ]
  },
  {
   "cell_type": "markdown",
   "metadata": {},
   "source": [
    "## Pierwsze podejście do modelu"
   ]
  },
  {
   "cell_type": "code",
   "execution_count": 3,
   "metadata": {},
   "outputs": [
    {
     "name": "stdout",
     "output_type": "stream",
     "text": [
      "tracking <tf.Variable 'Variable:0' shape=() dtype=int32, numpy=0> tp\n",
      "tracking <tf.Variable 'Variable:0' shape=() dtype=int32, numpy=0> fp\n",
      "tracking <tf.Variable 'Variable:0' shape=() dtype=int32, numpy=0> tp\n",
      "tracking <tf.Variable 'Variable:0' shape=() dtype=int32, numpy=0> fn\n",
      "tracking <tf.Variable 'Variable:0' shape=() dtype=int32, numpy=0> tp\n",
      "tracking <tf.Variable 'Variable:0' shape=() dtype=int32, numpy=0> fp\n",
      "tracking <tf.Variable 'Variable:0' shape=() dtype=int32, numpy=0> tp\n",
      "tracking <tf.Variable 'Variable:0' shape=() dtype=int32, numpy=0> fn\n",
      "Train on 6700 samples, validate on 3300 samples\n",
      "Epoch 1/3\n",
      "6700/6700 [==============================] - 8s 1ms/step - loss: 0.4192 - precision: 0.5743 - accuracy: 0.8255 - recall: 0.1203 - f1_score: 0.1922 - val_loss: 7615.6952 - val_precision: 0.0000e+00 - val_accuracy: 0.7964 - val_recall: 0.0000e+00 - val_f1_score: 0.0000e+00\n",
      "Epoch 2/3\n",
      "6700/6700 [==============================] - 8s 1ms/step - loss: 0.3623 - precision: 0.7042 - accuracy: 0.8506 - recall: 0.4052 - f1_score: 0.5141 - val_loss: 2929.8772 - val_precision: 0.2610 - val_accuracy: 0.7836 - val_recall: 0.0399 - val_f1_score: 0.0690\n",
      "Epoch 3/3\n",
      "6700/6700 [==============================] - 8s 1ms/step - loss: 0.3534 - precision: 0.7425 - accuracy: 0.8572 - recall: 0.4244 - f1_score: 0.5393 - val_loss: 1199.3170 - val_precision: 0.2811 - val_accuracy: 0.7400 - val_recall: 0.1507 - val_f1_score: 0.1959\n",
      "3300/3300 [==============================] - 0s 17us/step\n"
     ]
    },
    {
     "data": {
      "text/plain": [
       "[0.3599678965951457,\n",
       " 0.6786537170410156,\n",
       " 0.8427272439002991,\n",
       " 0.46117037534713745,\n",
       " 0.5488515496253967]"
      ]
     },
     "execution_count": 3,
     "metadata": {},
     "output_type": "execute_result"
    }
   ],
   "source": [
    "model = Sequential()\n",
    "\n",
    "\n",
    "model.add(Dense(11, activation='relu', input_shape=(10,)))\n",
    " \n",
    "model.add(Dense(121, activation='relu'))\n",
    "\n",
    "model.add(Dense(1, activation='sigmoid'))\n",
    "\n",
    "model.compile(loss='binary_crossentropy',\n",
    "              optimizer='adam',\n",
    "              metrics=[precision(),'accuracy', binary_recall(), f1_score()])\n",
    "                   \n",
    "model.fit(X_train_std, y_train,epochs=3, batch_size=1, verbose=1, validation_data=(X_test,y_test))\n",
    "\n",
    "model.evaluate(X_test_std,y_test)"
   ]
  },
  {
   "cell_type": "markdown",
   "metadata": {},
   "source": [
    "## Sprawdźmy skuteczność naszej predykcji raportem klasyfikacyjnym\n"
   ]
  },
  {
   "cell_type": "code",
   "execution_count": 4,
   "metadata": {},
   "outputs": [
    {
     "name": "stdout",
     "output_type": "stream",
     "text": [
      "              precision    recall  f1-score   support\n",
      "\n",
      "           0       0.87      0.94      0.91      2628\n",
      "           1       0.67      0.46      0.54       672\n",
      "\n",
      "   micro avg       0.84      0.84      0.84      3300\n",
      "   macro avg       0.77      0.70      0.72      3300\n",
      "weighted avg       0.83      0.84      0.83      3300\n",
      "\n",
      "0.8711721224920802\n"
     ]
    }
   ],
   "source": [
    "y_pred = model.predict_classes(X_test_std)\n",
    "report = classification_report(y_test,y_pred)\n",
    "report1 = classification_report(y_test,y_pred,output_dict=True)\n",
    "print(report)\n",
    "print(report1['0']['precision'])\n"
   ]
  },
  {
   "cell_type": "markdown",
   "metadata": {},
   "source": [
    "### Sprawdźmy, jak prezentują się wyniki w zależności od liczby neuronów w warstwie ukrytej."
   ]
  },
  {
   "cell_type": "code",
   "execution_count": 5,
   "metadata": {},
   "outputs": [
    {
     "name": "stdout",
     "output_type": "stream",
     "text": [
      "tracking <tf.Variable 'Variable:0' shape=() dtype=int32, numpy=0> tp\n",
      "tracking <tf.Variable 'Variable:0' shape=() dtype=int32, numpy=0> fp\n",
      "Train on 6700 samples, validate on 3300 samples\n",
      "Epoch 1/5\n",
      "6700/6700 [==============================] - 7s 1ms/step - loss: 0.4352 - precision: 0.4097 - accuracy: 0.8125 - val_loss: 2036.4791 - val_precision: 0.0000e+00 - val_accuracy: 0.7964\n",
      "Epoch 2/5\n",
      "6700/6700 [==============================] - 7s 1ms/step - loss: 0.3700 - precision: 0.7522 - accuracy: 0.8521 - val_loss: 966.0483 - val_precision: 0.3091 - val_accuracy: 0.7873\n",
      "Epoch 3/5\n",
      "6700/6700 [==============================] - 7s 1ms/step - loss: 0.3592 - precision: 0.7195 - accuracy: 0.8512 - val_loss: 1089.2046 - val_precision: 0.0000e+00 - val_accuracy: 0.7964\n",
      "Epoch 4/5\n",
      "6700/6700 [==============================] - 7s 1ms/step - loss: 0.3511 - precision: 0.7598 - accuracy: 0.8581 - val_loss: 1254.0022 - val_precision: 0.0000e+00 - val_accuracy: 0.7964\n",
      "Epoch 5/5\n",
      "6700/6700 [==============================] - 7s 1ms/step - loss: 0.3460 - precision: 0.7711 - accuracy: 0.8584 - val_loss: 2143.1857 - val_precision: 0.1375 - val_accuracy: 0.5467\n",
      "Zakończono trenowanie modelu z 10 węzłami.\n",
      "3300/3300 [==============================] - 0s 13us/step\n",
      "tracking <tf.Variable 'Variable:0' shape=() dtype=int32, numpy=0> tp\n",
      "tracking <tf.Variable 'Variable:0' shape=() dtype=int32, numpy=0> fp\n",
      "Train on 6700 samples, validate on 3300 samples\n",
      "Epoch 1/5\n",
      "6700/6700 [==============================] - 7s 1ms/step - loss: 0.4348 - precision: 0.6104 - accuracy: 0.8185 - val_loss: 1564.1628 - val_precision: 0.0000e+00 - val_accuracy: 0.7964\n",
      "Epoch 2/5\n",
      "6700/6700 [==============================] - 7s 1ms/step - loss: 0.3702 - precision: 0.7333 - accuracy: 0.8533 - val_loss: 2036.9425 - val_precision: 0.0000e+00 - val_accuracy: 0.7964\n",
      "Epoch 3/5\n",
      "6700/6700 [==============================] - 7s 1ms/step - loss: 0.3532 - precision: 0.7767 - accuracy: 0.8564 - val_loss: 3759.3787 - val_precision: 0.0000e+00 - val_accuracy: 0.7964\n",
      "Epoch 4/5\n",
      "6700/6700 [==============================] - 7s 1ms/step - loss: 0.3463 - precision: 0.7505 - accuracy: 0.8599 - val_loss: 3008.2245 - val_precision: 0.2858 - val_accuracy: 0.7839\n",
      "Epoch 5/5\n",
      "6700/6700 [==============================] - 7s 1ms/step - loss: 0.3438 - precision: 0.7823 - accuracy: 0.8591 - val_loss: 3620.7760 - val_precision: 0.2811 - val_accuracy: 0.7364\n",
      "Zakończono trenowanie modelu z 30 węzłami.\n",
      "3300/3300 [==============================] - 0s 12us/step\n",
      "tracking <tf.Variable 'Variable:0' shape=() dtype=int32, numpy=0> tp\n",
      "tracking <tf.Variable 'Variable:0' shape=() dtype=int32, numpy=0> fp\n",
      "Train on 6700 samples, validate on 3300 samples\n",
      "Epoch 1/5\n",
      "6700/6700 [==============================] - 7s 1ms/step - loss: 0.4431 - precision: 0.4650 - accuracy: 0.8106 - val_loss: 5325.5754 - val_precision: 0.0000e+00 - val_accuracy: 0.7964\n",
      "Epoch 2/5\n",
      "6700/6700 [==============================] - 7s 1ms/step - loss: 0.4130 - precision: 0.6884 - accuracy: 0.8299 - val_loss: 4090.6250 - val_precision: 0.1394 - val_accuracy: 0.5470\n",
      "Epoch 3/5\n",
      "6700/6700 [==============================] - 7s 1ms/step - loss: 0.3935 - precision: 0.7034 - accuracy: 0.8363 - val_loss: 2333.2044 - val_precision: 0.0000e+00 - val_accuracy: 0.7964\n",
      "Epoch 4/5\n",
      "6700/6700 [==============================] - 7s 1ms/step - loss: 0.3668 - precision: 0.7330 - accuracy: 0.8500 - val_loss: 2563.8011 - val_precision: 0.0000e+00 - val_accuracy: 0.7964\n",
      "Epoch 5/5\n",
      "6700/6700 [==============================] - 7s 1ms/step - loss: 0.3527 - precision: 0.7688 - accuracy: 0.8560 - val_loss: 6319.1899 - val_precision: 0.2421 - val_accuracy: 0.5148\n",
      "Zakończono trenowanie modelu z 50 węzłami.\n",
      "3300/3300 [==============================] - 0s 15us/step\n",
      "tracking <tf.Variable 'Variable:0' shape=() dtype=int32, numpy=0> tp\n",
      "tracking <tf.Variable 'Variable:0' shape=() dtype=int32, numpy=0> fp\n",
      "Train on 6700 samples, validate on 3300 samples\n",
      "Epoch 1/5\n",
      "6700/6700 [==============================] - 8s 1ms/step - loss: 0.4320 - precision: 0.5369 - accuracy: 0.8125 - val_loss: 9034.3310 - val_precision: 0.1391 - val_accuracy: 0.5491\n",
      "Epoch 2/5\n",
      "6700/6700 [==============================] - 7s 1ms/step - loss: 0.3702 - precision: 0.7096 - accuracy: 0.8455 - val_loss: 6250.9912 - val_precision: 0.0000e+00 - val_accuracy: 0.7964\n",
      "Epoch 3/5\n",
      "6700/6700 [==============================] - 7s 1ms/step - loss: 0.3559 - precision: 0.7457 - accuracy: 0.8543 - val_loss: 6045.8497 - val_precision: 0.0000e+00 - val_accuracy: 0.7964\n",
      "Epoch 4/5\n",
      "6700/6700 [==============================] - 7s 1ms/step - loss: 0.3470 - precision: 0.7679 - accuracy: 0.8587 - val_loss: 6415.9502 - val_precision: 0.0000e+00 - val_accuracy: 0.7964\n",
      "Epoch 5/5\n",
      "6700/6700 [==============================] - 7s 1ms/step - loss: 0.3426 - precision: 0.8010 - accuracy: 0.8607 - val_loss: 3024.5353 - val_precision: 0.0000e+00 - val_accuracy: 0.7936\n",
      "Zakończono trenowanie modelu z 70 węzłami.\n",
      "3300/3300 [==============================] - 0s 13us/step\n",
      "tracking <tf.Variable 'Variable:0' shape=() dtype=int32, numpy=0> tp\n",
      "tracking <tf.Variable 'Variable:0' shape=() dtype=int32, numpy=0> fp\n",
      "Train on 6700 samples, validate on 3300 samples\n",
      "Epoch 1/5\n",
      "6700/6700 [==============================] - 8s 1ms/step - loss: 0.4303 - precision: 0.5423 - accuracy: 0.8176 - val_loss: 8069.5778 - val_precision: 0.0000e+00 - val_accuracy: 0.7964\n",
      "Epoch 2/5\n",
      "6700/6700 [==============================] - 7s 1ms/step - loss: 0.3686 - precision: 0.7301 - accuracy: 0.8513 - val_loss: 5387.3254 - val_precision: 0.0000e+00 - val_accuracy: 0.7964\n",
      "Epoch 3/5\n",
      "6700/6700 [==============================] - 7s 1ms/step - loss: 0.3524 - precision: 0.7281 - accuracy: 0.8585 - val_loss: 5280.3431 - val_precision: 0.0000e+00 - val_accuracy: 0.7964\n",
      "Epoch 4/5\n",
      "6700/6700 [==============================] - 7s 1ms/step - loss: 0.3483 - precision: 0.7500 - accuracy: 0.8564 - val_loss: 2103.4643 - val_precision: 0.0000e+00 - val_accuracy: 0.7964\n",
      "Epoch 5/5\n",
      "6700/6700 [==============================] - 7s 1ms/step - loss: 0.3446 - precision: 0.7605 - accuracy: 0.8588 - val_loss: 1004.5722 - val_precision: 0.0000e+00 - val_accuracy: 0.7964\n",
      "Zakończono trenowanie modelu z 90 węzłami.\n",
      "3300/3300 [==============================] - 0s 15us/step\n",
      "tracking <tf.Variable 'Variable:0' shape=() dtype=int32, numpy=0> tp\n",
      "tracking <tf.Variable 'Variable:0' shape=() dtype=int32, numpy=0> fp\n",
      "Train on 6700 samples, validate on 3300 samples\n",
      "Epoch 1/5\n",
      "6700/6700 [==============================] - 8s 1ms/step - loss: 0.4131 - precision: 0.5888 - accuracy: 0.8321 - val_loss: 6629.1948 - val_precision: 0.0000e+00 - val_accuracy: 0.7964\n",
      "Epoch 2/5\n",
      "6700/6700 [==============================] - 7s 1ms/step - loss: 0.3638 - precision: 0.7321 - accuracy: 0.8522 - val_loss: 4215.8880 - val_precision: 0.2785 - val_accuracy: 0.7861\n",
      "Epoch 3/5\n",
      "6700/6700 [==============================] - 7s 1ms/step - loss: 0.3538 - precision: 0.7435 - accuracy: 0.8549 - val_loss: 4143.6867 - val_precision: 0.0000e+00 - val_accuracy: 0.7964\n",
      "Epoch 4/5\n",
      "6700/6700 [==============================] - 8s 1ms/step - loss: 0.3470 - precision: 0.7442 - accuracy: 0.8594 - val_loss: 4112.5944 - val_precision: 0.2526 - val_accuracy: 0.5961\n",
      "Epoch 5/5\n",
      "6700/6700 [==============================] - 8s 1ms/step - loss: 0.3453 - precision: 0.7393 - accuracy: 0.8596 - val_loss: 10742.9875 - val_precision: 0.2082 - val_accuracy: 0.2070\n",
      "Zakończono trenowanie modelu z 110 węzłami.\n",
      "3300/3300 [==============================] - 0s 18us/step\n",
      "{50: [0.8684573002754821, 0.7323232323232324], 110: [0.8670820353063343, 0.7007299270072993], 70: [0.8558558558558559, 0.7920792079207921], 10: [0.8639154160982264, 0.7418478260869565], 90: [0.8610733695652174, 0.7387640449438202], 30: [0.8620338983050847, 0.7571428571428571]}\n"
     ]
    }
   ],
   "source": [
    "nodes = [10, 30, 50, 70, 90, 110]\n",
    "wyniki = {}\n",
    "for i in nodes:\n",
    "    model = 0\n",
    "\n",
    "    model = Sequential()\n",
    "\n",
    "    model.add(Dense(11, activation='relu', input_shape=(10,)))\n",
    "\n",
    "    model.add(Dense(i, activation='relu'))\n",
    "\n",
    "    model.add(Dense(1, activation='sigmoid'))\n",
    "\n",
    "    model.compile(loss='binary_crossentropy',\n",
    "                  optimizer='adam',\n",
    "                  metrics=[precision(), 'accuracy'])\n",
    "\n",
    "    model.fit(X_train_std, y_train, epochs=5, batch_size=1, verbose=1, validation_data=(X_test, y_test))\n",
    "    print(\"Zakończono trenowanie modelu z {0} węzłami.\".format(i))\n",
    "    model.evaluate(X_test_std, y_test)\n",
    "    y_pred = model.predict_classes(X_test_std)\n",
    "    report = classification_report(y_test, y_pred, output_dict=True)\n",
    "    wyniki.update({i: [report['0']['precision'], report['1']['precision']]})\n",
    "\n",
    "print(wyniki)\n"
   ]
  },
  {
   "cell_type": "markdown",
   "metadata": {},
   "source": [
    "## Wybieramy model z 90 węzłami - dał najlepsze wyniki"
   ]
  },
  {
   "cell_type": "code",
   "execution_count": 13,
   "metadata": {},
   "outputs": [
    {
     "name": "stdout",
     "output_type": "stream",
     "text": [
      "tracking <tf.Variable 'Variable:0' shape=() dtype=int32, numpy=0> tp\n",
      "tracking <tf.Variable 'Variable:0' shape=() dtype=int32, numpy=0> fp\n",
      "Train on 6700 samples, validate on 3300 samples\n",
      "Epoch 1/30\n",
      "6700/6700 [==============================] - 9s 1ms/step - loss: 0.4417 - precision: 0.4486 - accuracy: 0.8154 - val_loss: 7561.1996 - val_precision: 0.0000e+00 - val_accuracy: 0.7964\n",
      "Epoch 2/30\n",
      "6700/6700 [==============================] - 9s 1ms/step - loss: 0.3826 - precision: 0.7359 - accuracy: 0.8484 - val_loss: 5587.9512 - val_precision: 0.0000e+00 - val_accuracy: 0.7964\n",
      "Epoch 3/30\n",
      "6700/6700 [==============================] - 8s 1ms/step - loss: 0.3708 - precision: 0.7504 - accuracy: 0.8509 - val_loss: 2732.0952 - val_precision: 0.0000e+00 - val_accuracy: 0.7964\n",
      "Epoch 4/30\n",
      "6700/6700 [==============================] - 9s 1ms/step - loss: 0.3663 - precision: 0.7312 - accuracy: 0.8510 - val_loss: 3017.3058 - val_precision: 0.0000e+00 - val_accuracy: 0.7964\n",
      "Epoch 5/30\n",
      "6700/6700 [==============================] - 8s 1ms/step - loss: 0.3586 - precision: 0.7385 - accuracy: 0.8527 - val_loss: 1906.8818 - val_precision: 0.2421 - val_accuracy: 0.5603\n",
      "Epoch 6/30\n",
      "6700/6700 [==============================] - 8s 1ms/step - loss: 0.3615 - precision: 0.7064 - accuracy: 0.8531 - val_loss: 8516.9832 - val_precision: 0.2098 - val_accuracy: 0.2212\n",
      "Epoch 7/30\n",
      "6700/6700 [==============================] - 9s 1ms/step - loss: 0.3546 - precision: 0.7279 - accuracy: 0.8519 - val_loss: 8084.7331 - val_precision: 0.2443 - val_accuracy: 0.4673\n",
      "3300/3300 [==============================] - 0s 22us/step\n",
      "              precision    recall  f1-score   support\n",
      "\n",
      "           0       0.88      0.95      0.91      2628\n",
      "           1       0.70      0.49      0.58       672\n",
      "\n",
      "   micro avg       0.85      0.85      0.85      3300\n",
      "   macro avg       0.79      0.72      0.75      3300\n",
      "weighted avg       0.84      0.85      0.84      3300\n",
      "\n"
     ]
    }
   ],
   "source": [
    "model = Sequential(name='model_1')\n",
    "\n",
    "model.add(Dense(10, activation='relu', input_shape=(10,)))\n",
    "model.add(Dropout(0.1, ))\n",
    "\n",
    "model.add(Dense(90, activation='relu'))\n",
    "\n",
    "model.add(Dense(1, activation='sigmoid'))\n",
    "\n",
    "model.compile(loss='binary_crossentropy',\n",
    "              optimizer='adam',\n",
    "              metrics=[precision(),'accuracy'])\n",
    "\n",
    "early_stopping_monitor = EarlyStopping(patience=2)\n",
    "model.fit(X_train_std, y_train, epochs=30, batch_size=1, verbose=1, validation_data=(X_test, y_test),\n",
    "          callbacks=[early_stopping_monitor])\n",
    "\n",
    "model.evaluate(X_test_std, y_test)\n",
    "y_pred = model.predict_classes(X_test_std)\n",
    "report = classification_report(y_test, y_pred)\n",
    "report1 = classification_report(y_test, y_pred, output_dict=True)\n",
    "print(report)\n",
    "\n"
   ]
  },
  {
   "cell_type": "markdown",
   "metadata": {},
   "source": [
    "## Zapisujemy wytrenowany model"
   ]
  },
  {
   "cell_type": "code",
   "execution_count": 14,
   "metadata": {},
   "outputs": [],
   "source": [
    "model.save(\"../saved_models/model_1.h5\")"
   ]
  },
  {
   "cell_type": "markdown",
   "metadata": {},
   "source": [
    "### autor: Tomasz Sołtysiak"
   ]
  }
 ],
 "metadata": {
  "kernelspec": {
   "display_name": "Python 3",
   "language": "python",
   "name": "python3"
  },
  "language_info": {
   "codemirror_mode": {
    "name": "ipython",
    "version": 3
   },
   "file_extension": ".py",
   "mimetype": "text/x-python",
   "name": "python",
   "nbconvert_exporter": "python",
   "pygments_lexer": "ipython3",
   "version": "3.5.2"
  }
 },
 "nbformat": 4,
 "nbformat_minor": 2
}
