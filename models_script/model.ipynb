{
 "cells": [
  {
   "cell_type": "markdown",
   "metadata": {
    "colab_type": "text",
    "id": "view-in-github"
   },
   "source": [
    "<a href=\"https://colab.research.google.com/github/Dalthirr/NeuralNetworks/blob/Model/model.ipynb\" target=\"_parent\"><img src=\"https://colab.research.google.com/assets/colab-badge.svg\" alt=\"Open In Colab\"/></a>"
   ]
  },
  {
   "cell_type": "markdown",
   "metadata": {
    "colab_type": "text",
    "id": "kP7he45N2HRe"
   },
   "source": [
    "## Import necessary modules and data"
   ]
  },
  {
   "cell_type": "code",
   "execution_count": 25,
   "metadata": {
    "colab": {
     "base_uri": "https://localhost:8080/",
     "height": 801
    },
    "colab_type": "code",
    "id": "H28CM2rV2HRj",
    "outputId": "117aaa03-63aa-4bb8-c740-853dfb175de1"
   },
   "outputs": [],
   "source": [
    "import numpy as np\n",
    "import pandas as pd\n",
    "import sklearn\n",
    "import keras\n",
    "import seaborn\n",
    "import matplotlib.pyplot as plt\n",
    "import tensorflow\n",
    "from sklearn.model_selection import train_test_split\n",
    "from sklearn.preprocessing import StandardScaler\n",
    "from sklearn.metrics import classification_report, confusion_matrix\n",
    "!pip install -q keras_metrics\n",
    "import keras_metrics\n",
    "from sklearn.model_selection import cross_validate\n",
    "#!pip install livelossplot\n",
    "from livelossplot import PlotLossesKeras\n",
    "from keras.models import Sequential\n",
    "from keras.callbacks import EarlyStopping\n",
    "from keras.layers import Dense\n",
    "from keras.layers import Dropout\n",
    "from sklearn.metrics import precision_recall_fscore_support as score\n",
    "import random\n"
   ]
  },
  {
   "cell_type": "code",
   "execution_count": 8,
   "metadata": {
    "colab": {
     "base_uri": "https://localhost:8080/",
     "height": 319
    },
    "colab_type": "code",
    "id": "LzEZclYs2HRy",
    "outputId": "5aa56b41-b393-4422-a570-eb65da5a8edb"
   },
   "outputs": [
    {
     "name": "stdout",
     "output_type": "stream",
     "text": [
      "<class 'pandas.core.frame.DataFrame'>\n",
      "RangeIndex: 10000 entries, 0 to 9999\n",
      "Data columns (total 12 columns):\n",
      "CreditScore          10000 non-null int64\n",
      "Age                  10000 non-null int64\n",
      "Tenure               10000 non-null int64\n",
      "Balance              10000 non-null float64\n",
      "NumOfProducts        10000 non-null int64\n",
      "HasCrCard            10000 non-null int64\n",
      "IsActiveMember       10000 non-null int64\n",
      "EstimatedSalary      10000 non-null float64\n",
      "Exited               10000 non-null int64\n",
      "Gender_Male          10000 non-null uint8\n",
      "Geography_Germany    10000 non-null uint8\n",
      "Geography_Spain      10000 non-null uint8\n",
      "dtypes: float64(2), int64(7), uint8(3)\n",
      "memory usage: 732.5 KB\n"
     ]
    }
   ],
   "source": [
    "url = 'https://raw.githubusercontent.com/Dalthirr/NeuralNetworks/master/Churn_Modelling.csv'\n",
    "#Pobieranie danych\n",
    "df=pd.read_csv(url)\n",
    "df = df.drop([\"CustomerId\", \"Surname\", \"RowNumber\"],\n",
    "        axis=1)\n",
    "df = pd.concat([df, pd.get_dummies(df[[\"Gender\", \"Geography\"]], drop_first=True)],\n",
    "               sort=False, axis=1).drop(df[[\"Gender\", \"Geography\"]], axis=1)\n",
    "df.info()"
   ]
  },
  {
   "cell_type": "markdown",
   "metadata": {},
   "source": [
    "## Tworzymy zbiór treningowy i testowy, standaryzujemy i stratyfikujemy odpowiednio do proporcji etykiet"
   ]
  },
  {
   "cell_type": "code",
   "execution_count": 9,
   "metadata": {
    "colab": {},
    "colab_type": "code",
    "id": "91OO5oBWB1xE"
   },
   "outputs": [
    {
     "name": "stderr",
     "output_type": "stream",
     "text": [
      "c:\\users\\sebas\\appdata\\local\\programs\\python\\python36\\lib\\site-packages\\sklearn\\preprocessing\\data.py:645: DataConversionWarning: Data with input dtype uint8, int64, float64 were all converted to float64 by StandardScaler.\n",
      "  return self.partial_fit(X, y)\n",
      "c:\\users\\sebas\\appdata\\local\\programs\\python\\python36\\lib\\site-packages\\ipykernel_launcher.py:7: DataConversionWarning: Data with input dtype uint8, int64, float64 were all converted to float64 by StandardScaler.\n",
      "  import sys\n",
      "c:\\users\\sebas\\appdata\\local\\programs\\python\\python36\\lib\\site-packages\\ipykernel_launcher.py:9: DataConversionWarning: Data with input dtype uint8, int64, float64 were all converted to float64 by StandardScaler.\n",
      "  if __name__ == '__main__':\n",
      "c:\\users\\sebas\\appdata\\local\\programs\\python\\python36\\lib\\site-packages\\ipykernel_launcher.py:11: DataConversionWarning: Data with input dtype uint8, int64, float64 were all converted to float64 by StandardScaler.\n",
      "  # This is added back by InteractiveShellApp.init_path()\n"
     ]
    }
   ],
   "source": [
    "X = df.drop(['Exited'], axis=1)\n",
    "y = df['Exited']\n",
    "\n",
    "X_train, X_test, y_train, y_test = train_test_split(X, y, test_size=0.33, random_state=42, stratify=y)\n",
    "\n",
    "scaler = StandardScaler().fit(X_train)\n",
    "X_train_std = scaler.transform(X_train)\n",
    "\n",
    "X_test_std = scaler.transform(X_test)\n",
    "\n",
    "X_std = scaler.transform(X)\n"
   ]
  },
  {
   "cell_type": "markdown",
   "metadata": {},
   "source": [
    "## Modele"
   ]
  },
  {
   "cell_type": "markdown",
   "metadata": {},
   "source": [
    "### Tomasz Sołtysiak"
   ]
  },
  {
   "cell_type": "markdown",
   "metadata": {
    "colab_type": "text",
    "id": "pcuNdQPYRrnG"
   },
   "source": [
    "Zbuduję przykładową sieć, która składa się z warstwy wejściowej, jednej warstwy ukrytej i  warstwy wyjściowej.\n",
    "Kompilujemy model przy użyciu \n",
    "\n",
    "loss_function='binary_crossentropy';\n",
    "\n",
    "optimizer='Adam'.\n",
    "\n",
    "\n",
    "Naszą główną metryką będzie **precyzja** oznaczająca procent osób prawidłowie określonych jako zagrożone odejściem."
   ]
  },
  {
   "cell_type": "code",
   "execution_count": 10,
   "metadata": {
    "colab": {
     "base_uri": "https://localhost:8080/",
     "height": 304
    },
    "colab_type": "code",
    "id": "5uOxdI7HIbXc",
    "outputId": "5c24dbe7-83a0-400f-c446-42ade6903be0"
   },
   "outputs": [
    {
     "name": "stdout",
     "output_type": "stream",
     "text": [
      "Train on 6700 samples, validate on 3300 samples\n",
      "Epoch 1/3\n",
      "6700/6700 [==============================] - 27s 4ms/step - loss: 0.4371 - precision: 0.6416 - acc: 0.8176 - val_loss: 7.2359 - val_precision: 0.2406 - val_acc: 0.5467\n",
      "Epoch 2/3\n",
      "6700/6700 [==============================] - 27s 4ms/step - loss: 0.3703 - precision: 0.7184 - acc: 0.8484 - val_loss: 8.3476 - val_precision: 0.2429 - val_acc: 0.4770\n",
      "Epoch 3/3\n",
      "6700/6700 [==============================] - 27s 4ms/step - loss: 0.3530 - precision: 0.7398 - acc: 0.8543 - val_loss: 8.4310 - val_precision: 0.2423 - val_acc: 0.4715\n",
      "3300/3300 [==============================] - 0s 51us/step\n"
     ]
    },
    {
     "data": {
      "text/plain": [
       "[0.3510699897823912, 0.7443946186671762, 0.8624242424242424]"
      ]
     },
     "execution_count": 10,
     "metadata": {},
     "output_type": "execute_result"
    }
   ],
   "source": [
    "# Pierwsze podejście do modelu\n",
    "# Creating Model, I will build simple networt using Sequential.\n",
    "model=Sequential()\n",
    "# Add an input layer shape depends on shape of X. We have 11 columns in X.\n",
    "model.add(Dense(11, activation='relu', input_shape=(11,)))\n",
    "\n",
    "# Add one hidden layer \n",
    "model.add(Dense(121, activation='relu'))\n",
    "\n",
    "\n",
    "\n",
    "# Add an output layer \n",
    "model.add(Dense(1, activation='sigmoid'))\n",
    "\n",
    "\n",
    "model.compile(loss='binary_crossentropy',\n",
    "              optimizer='adam',\n",
    "              metrics=[keras_metrics.precision(),'accuracy'])\n",
    "                   \n",
    "model.fit(X_train_std, y_train,epochs=3, batch_size=1, verbose=1,validation_data=(X_test,y_test))\n",
    "\n",
    "model.evaluate(X_test_std,y_test)"
   ]
  },
  {
   "cell_type": "code",
   "execution_count": 13,
   "metadata": {
    "colab": {
     "base_uri": "https://localhost:8080/",
     "height": 195
    },
    "colab_type": "code",
    "id": "An8__t8VZEBi",
    "outputId": "c82a75ab-9b24-4c9b-cbd4-1dcf5a515f4f"
   },
   "outputs": [
    {
     "name": "stdout",
     "output_type": "stream",
     "text": [
      "              precision    recall  f1-score   support\n",
      "\n",
      "           0       0.88      0.96      0.92      2628\n",
      "           1       0.74      0.49      0.59       672\n",
      "\n",
      "   micro avg       0.86      0.86      0.86      3300\n",
      "   macro avg       0.81      0.73      0.76      3300\n",
      "weighted avg       0.85      0.86      0.85      3300\n",
      "\n",
      "0.8808689558514365\n"
     ]
    }
   ],
   "source": [
    "#Sprawdźmy skuteczność naszej predykcji - raportem klasyfikacyjnym\n",
    "y_pred = model.predict_classes(X_test_std)\n",
    "report = classification_report(y_test,y_pred)\n",
    "report1 = classification_report(y_test,y_pred,output_dict=True)\n",
    "print(report)\n",
    "print(report1['0']['precision'])\n"
   ]
  },
  {
   "cell_type": "code",
   "execution_count": 14,
   "metadata": {
    "colab": {
     "base_uri": "https://localhost:8080/",
     "height": 1335
    },
    "colab_type": "code",
    "id": "dXLZvbc0r5TH",
    "outputId": "238b8f58-daf9-492f-d929-7562eb9a104f"
   },
   "outputs": [
    {
     "name": "stdout",
     "output_type": "stream",
     "text": [
      "Train on 6700 samples, validate on 3300 samples\n",
      "Epoch 1/5\n",
      "6700/6700 [==============================] - 26s 4ms/step - loss: 0.4516 - precision: 0.5463 - acc: 0.8025 - val_loss: 5.8813 - val_precision: 0.2472 - val_acc: 0.6321\n",
      "Epoch 2/5\n",
      "6700/6700 [==============================] - 26s 4ms/step - loss: 0.3791 - precision: 0.7118 - acc: 0.8430 - val_loss: 4.2664 - val_precision: 0.2790 - val_acc: 0.7339\n",
      "Epoch 3/5\n",
      "6700/6700 [==============================] - 26s 4ms/step - loss: 0.3553 - precision: 0.7490 - acc: 0.8540 - val_loss: 5.2095 - val_precision: 0.2420 - val_acc: 0.6748\n",
      "Epoch 4/5\n",
      "6700/6700 [==============================] - 32s 5ms/step - loss: 0.3505 - precision: 0.7541 - acc: 0.8564 - val_loss: 6.6508 - val_precision: 0.2440 - val_acc: 0.5839\n",
      "Epoch 5/5\n",
      "6700/6700 [==============================] - 28s 4ms/step - loss: 0.3470 - precision: 0.7558 - acc: 0.8585 - val_loss: 7.8858 - val_precision: 0.2452 - val_acc: 0.5061\n",
      "Zakończono trenowanie modelu z 10 węzłami.\n",
      "3300/3300 [==============================] - 0s 57us/step\n",
      "Train on 6700 samples, validate on 3300 samples\n",
      "Epoch 1/5\n",
      "6700/6700 [==============================] - 29s 4ms/step - loss: 0.4463 - precision: 0.5852 - acc: 0.8079 - val_loss: 3.2822 - val_precision: 0.0000e+00 - val_acc: 0.7964\n",
      "Epoch 2/5\n",
      "6700/6700 [==============================] - 29s 4ms/step - loss: 0.4081 - precision: 0.6768 - acc: 0.8275 - val_loss: 3.2822 - val_precision: 0.0000e+00 - val_acc: 0.7964\n",
      "Epoch 3/5\n",
      "6700/6700 [==============================] - 29s 4ms/step - loss: 0.3802 - precision: 0.7153 - acc: 0.8416 - val_loss: 6.9208 - val_precision: 0.1323 - val_acc: 0.5639\n",
      "Epoch 4/5\n",
      "6700/6700 [==============================] - 29s 4ms/step - loss: 0.3529 - precision: 0.7413 - acc: 0.8542 - val_loss: 3.2822 - val_precision: 0.0000e+00 - val_acc: 0.7964\n",
      "Epoch 5/5\n",
      "6700/6700 [==============================] - 28s 4ms/step - loss: 0.3490 - precision: 0.7385 - acc: 0.8564 - val_loss: 3.2871 - val_precision: 0.0000e+00 - val_acc: 0.7961\n",
      "Zakończono trenowanie modelu z 30 węzłami.\n",
      "3300/3300 [==============================] - 0s 46us/step\n",
      "Train on 6700 samples, validate on 3300 samples\n",
      "Epoch 1/5\n",
      "6700/6700 [==============================] - 29s 4ms/step - loss: 0.4230 - precision: 0.6813 - acc: 0.8258 - val_loss: 3.2822 - val_precision: 0.0000e+00 - val_acc: 0.7964\n",
      "Epoch 2/5\n",
      "6700/6700 [==============================] - 29s 4ms/step - loss: 0.3627 - precision: 0.7342 - acc: 0.8528 - val_loss: 4.4618 - val_precision: 0.2423 - val_acc: 0.7203\n",
      "Epoch 3/5\n",
      "6700/6700 [==============================] - 29s 4ms/step - loss: 0.3542 - precision: 0.7332 - acc: 0.8542 - val_loss: 12.1027 - val_precision: 0.2028 - val_acc: 0.2403\n",
      "Epoch 4/5\n",
      "6700/6700 [==============================] - 31s 5ms/step - loss: 0.3515 - precision: 0.7528 - acc: 0.8573 - val_loss: 12.1092 - val_precision: 0.2027 - val_acc: 0.2400\n",
      "Epoch 5/5\n",
      "6700/6700 [==============================] - 29s 4ms/step - loss: 0.3470 - precision: 0.7416 - acc: 0.8563 - val_loss: 12.5821 - val_precision: 0.2051 - val_acc: 0.2106\n",
      "Zakończono trenowanie modelu z 50 węzłami.\n",
      "3300/3300 [==============================] - 0s 52us/step\n",
      "Train on 6700 samples, validate on 3300 samples\n",
      "Epoch 1/5\n",
      "6700/6700 [==============================] - 31s 5ms/step - loss: 0.4102 - precision: 0.6684 - acc: 0.8258 - val_loss: 3.2822 - val_precision: 0.0000e+00 - val_acc: 0.7964\n",
      "Epoch 2/5\n",
      "6700/6700 [==============================] - 28s 4ms/step - loss: 0.3583 - precision: 0.7326 - acc: 0.8531 - val_loss: 5.3404 - val_precision: 0.2480 - val_acc: 0.6627\n",
      "Epoch 3/5\n",
      "6700/6700 [==============================] - 29s 4ms/step - loss: 0.3503 - precision: 0.7341 - acc: 0.8546 - val_loss: 8.1163 - val_precision: 0.2462 - val_acc: 0.4915\n",
      "Epoch 4/5\n",
      "6700/6700 [==============================] - 29s 4ms/step - loss: 0.3445 - precision: 0.7608 - acc: 0.8613 - val_loss: 12.5374 - val_precision: 0.2049 - val_acc: 0.2133\n",
      "Epoch 5/5\n",
      "6700/6700 [==============================] - 29s 4ms/step - loss: 0.3426 - precision: 0.7437 - acc: 0.8573 - val_loss: 12.4468 - val_precision: 0.2057 - val_acc: 0.2161\n",
      "Zakończono trenowanie modelu z 70 węzłami.\n",
      "3300/3300 [==============================] - 0s 53us/step\n",
      "Train on 6700 samples, validate on 3300 samples\n",
      "Epoch 1/5\n",
      "6700/6700 [==============================] - 29s 4ms/step - loss: 0.4163 - precision: 0.6624 - acc: 0.8264 - val_loss: 8.0156 - val_precision: 0.2457 - val_acc: 0.4979\n",
      "Epoch 2/5\n",
      "6700/6700 [==============================] - 30s 4ms/step - loss: 0.3667 - precision: 0.7008 - acc: 0.8460 - val_loss: 12.6347 - val_precision: 0.2044 - val_acc: 0.2073\n",
      "Epoch 3/5\n",
      "6700/6700 [==============================] - 32s 5ms/step - loss: 0.3559 - precision: 0.7136 - acc: 0.8497 - val_loss: 12.4436 - val_precision: 0.2030 - val_acc: 0.2191\n",
      "Epoch 4/5\n",
      "6700/6700 [==============================] - 29s 4ms/step - loss: 0.3525 - precision: 0.7287 - acc: 0.8531 - val_loss: 12.5897 - val_precision: 0.2050 - val_acc: 0.2103\n",
      "Epoch 5/5\n",
      "6700/6700 [==============================] - 29s 4ms/step - loss: 0.3463 - precision: 0.7373 - acc: 0.8548 - val_loss: 12.5897 - val_precision: 0.2050 - val_acc: 0.2103\n",
      "Zakończono trenowanie modelu z 90 węzłami.\n",
      "3300/3300 [==============================] - 0s 65us/step\n",
      "Train on 6700 samples, validate on 3300 samples\n",
      "Epoch 1/5\n",
      "6700/6700 [==============================] - 30s 5ms/step - loss: 0.4150 - precision: 0.6584 - acc: 0.8230 - val_loss: 5.3968 - val_precision: 0.2436 - val_acc: 0.6630\n",
      "Epoch 2/5\n",
      "6700/6700 [==============================] - 30s 4ms/step - loss: 0.3708 - precision: 0.7137 - acc: 0.8446 - val_loss: 6.4970 - val_precision: 0.2452 - val_acc: 0.5936\n",
      "Epoch 3/5\n",
      "6700/6700 [==============================] - 30s 5ms/step - loss: 0.3619 - precision: 0.7203 - acc: 0.8478 - val_loss: 4.7722 - val_precision: 0.2611 - val_acc: 0.7021\n",
      "Epoch 4/5\n",
      "6700/6700 [==============================] - 30s 4ms/step - loss: 0.3572 - precision: 0.7396 - acc: 0.8512 - val_loss: 5.1420 - val_precision: 0.2444 - val_acc: 0.6791\n",
      "Epoch 5/5\n",
      "6700/6700 [==============================] - 30s 4ms/step - loss: 0.3531 - precision: 0.7399 - acc: 0.8530 - val_loss: 5.3774 - val_precision: 0.2447 - val_acc: 0.6642\n",
      "Zakończono trenowanie modelu z 110 węzłami.\n",
      "3300/3300 [==============================] - 0s 57us/step\n",
      "{10: [0.8666666666666667, 0.8057971014492754], 30: [0.8721934369602763, 0.745679012345679], 50: [0.8688524590163934, 0.7741935483870968], 70: [0.8667573079537729, 0.7821229050279329], 90: [0.8756476683937824, 0.7703703703703704], 110: [0.872651356993737, 0.7183098591549296]}\n"
     ]
    }
   ],
   "source": [
    "# Sprawdźmy, jak prezentują się wyniki w zależności od liczby\n",
    "# neuronów w warstwie ukrytej.\n",
    "nodes = [10, 30, 50, 70, 90, 110]\n",
    "wyniki = {}\n",
    "for i in nodes:\n",
    "    model = 0\n",
    "    # Creating Model, I will build simple networt using Sequential.\n",
    "    model = Sequential()\n",
    "    # Add an input layer shape depends on shape of X. We have 11 columns in X.\n",
    "    model.add(Dense(11, activation='relu', input_shape=(11,)))\n",
    "\n",
    "    # Add one hidden layer\n",
    "    model.add(Dense(i, activation='relu'))\n",
    "\n",
    "    # Add an output layer\n",
    "    model.add(Dense(1, activation='sigmoid'))\n",
    "\n",
    "    model.compile(loss='binary_crossentropy',\n",
    "                  optimizer='adam',\n",
    "                  metrics=[keras_metrics.precision(), 'accuracy'])\n",
    "\n",
    "    model.fit(X_train_std, y_train, epochs=5, batch_size=1, verbose=1, validation_data=(X_test, y_test))\n",
    "    print(\"Zakończono trenowanie modelu z {0} węzłami.\".format(i))\n",
    "    model.evaluate(X_test_std, y_test)\n",
    "    y_pred = model.predict_classes(X_test_std)\n",
    "    report = classification_report(y_test, y_pred, output_dict=True)\n",
    "    wyniki.update({i: [report['0']['precision'], report['1']['precision']]})\n",
    "\n",
    "print(wyniki)\n"
   ]
  },
  {
   "cell_type": "code",
   "execution_count": 15,
   "metadata": {
    "colab": {
     "base_uri": "https://localhost:8080/",
     "height": 464
    },
    "colab_type": "code",
    "id": "QibFmuQwHrHC",
    "outputId": "effd71a6-8b73-43c6-efda-882abf140356"
   },
   "outputs": [
    {
     "name": "stdout",
     "output_type": "stream",
     "text": [
      "Train on 6700 samples, validate on 3300 samples\n",
      "Epoch 1/30\n",
      "6700/6700 [==============================] - 29s 4ms/step - loss: 0.4382 - precision: 0.6084 - acc: 0.8094 - val_loss: 8.3561 - val_precision: 0.1639 - val_acc: 0.4770\n",
      "Epoch 2/30\n",
      "6700/6700 [==============================] - 27s 4ms/step - loss: 0.3792 - precision: 0.6855 - acc: 0.8364 - val_loss: 12.6708 - val_precision: 0.2039 - val_acc: 0.2052\n",
      "Epoch 3/30\n",
      "6700/6700 [==============================] - 28s 4ms/step - loss: 0.3691 - precision: 0.7168 - acc: 0.8440 - val_loss: 12.6261 - val_precision: 0.2044 - val_acc: 0.2076\n",
      "3300/3300 [==============================] - 0s 52us/step\n",
      "              precision    recall  f1-score   support\n",
      "\n",
      "           0       0.86      0.97      0.91      2628\n",
      "           1       0.79      0.40      0.53       672\n",
      "\n",
      "   micro avg       0.86      0.86      0.86      3300\n",
      "   macro avg       0.82      0.69      0.72      3300\n",
      "weighted avg       0.85      0.86      0.84      3300\n",
      "\n"
     ]
    }
   ],
   "source": [
    "# Wybieramy model z 90 węzłami - dał najlepsze wyniki\n",
    "from keras.callbacks import EarlyStopping\n",
    "\n",
    "model = Sequential()\n",
    "# Add an input layer shape depends on shape of X. We have 11 columns in X.\n",
    "model.add(Dense(11, activation='relu', input_shape=(11,)))\n",
    "model.add(Dropout(0.1, ))\n",
    "# Add one hidden layer \n",
    "model.add(Dense(90, activation='relu'))\n",
    "\n",
    "# Add an output layer \n",
    "model.add(Dense(1, activation='sigmoid'))\n",
    "\n",
    "model.compile(loss='binary_crossentropy',\n",
    "              optimizer='adam',\n",
    "              metrics=[keras_metrics.precision(), 'accuracy'])\n",
    "\n",
    "early_stopping_monitor = EarlyStopping(patience=2)\n",
    "model.fit(X_train_std, y_train, epochs=30, batch_size=1, verbose=1, validation_data=(X_test, y_test),\n",
    "          callbacks=[early_stopping_monitor])\n",
    "\n",
    "model.evaluate(X_test_std, y_test)\n",
    "y_pred = model.predict_classes(X_test_std)\n",
    "report = classification_report(y_test, y_pred)\n",
    "report1 = classification_report(y_test, y_pred, output_dict=True)\n",
    "print(report)\n",
    "\n"
   ]
  },
  {
   "cell_type": "markdown",
   "metadata": {
    "colab_type": "text",
    "id": "0T9WRo6OYa6H"
   },
   "source": [
    "## Paweł Bogdan"
   ]
  },
  {
   "cell_type": "code",
   "execution_count": 16,
   "metadata": {
    "colab": {},
    "colab_type": "code",
    "id": "XiJv6sqh63Lv"
   },
   "outputs": [
    {
     "name": "stderr",
     "output_type": "stream",
     "text": [
      "c:\\users\\sebas\\appdata\\local\\programs\\python\\python36\\lib\\site-packages\\sklearn\\preprocessing\\data.py:645: DataConversionWarning: Data with input dtype uint8, int64, float64 were all converted to float64 by StandardScaler.\n",
      "  return self.partial_fit(X, y)\n",
      "c:\\users\\sebas\\appdata\\local\\programs\\python\\python36\\lib\\site-packages\\ipykernel_launcher.py:16: DataConversionWarning: Data with input dtype uint8, int64, float64 were all converted to float64 by StandardScaler.\n",
      "  app.launch_new_instance()\n",
      "c:\\users\\sebas\\appdata\\local\\programs\\python\\python36\\lib\\site-packages\\ipykernel_launcher.py:18: DataConversionWarning: Data with input dtype uint8, int64, float64 were all converted to float64 by StandardScaler.\n",
      "c:\\users\\sebas\\appdata\\local\\programs\\python\\python36\\lib\\site-packages\\ipykernel_launcher.py:20: DataConversionWarning: Data with input dtype uint8, int64, float64 were all converted to float64 by StandardScaler.\n"
     ]
    }
   ],
   "source": [
    "#Wczytuję dane - tym razem wyrzucam również informację odnośnie\n",
    "#posiadania karty kredytowej - korelacja ze zmienną objaśnianą\n",
    "#wynosiła 0.0003\n",
    "df2 = pd.read_csv(url).drop([\"CustomerId\", \"Surname\", \"RowNumber\", \"HasCrCard\"],\n",
    "                            axis=1)\n",
    "df2 = pd.concat([df2, pd.get_dummies(df2[[\"Gender\", \"Geography\"]], drop_first=True)],\n",
    "               sort=False, axis=1).drop(df2[[\"Gender\", \"Geography\"]], axis=1)\n",
    "\n",
    "X2=df2.drop(['Exited'], axis=1)\n",
    "y2=df2['Exited']\n",
    "\n",
    "X_train2, X_test2, y_train2, y_test2 = train_test_split(X2, y2, test_size=0.2, random_state=42, stratify=y2)\n",
    "\n",
    "\n",
    "scaler2 = StandardScaler().fit(X_train2)\n",
    "X_train_std2 = scaler2.transform(X_train2)\n",
    "\n",
    "X_test_std2 = scaler2.transform(X_test2)\n",
    "\n",
    "X_std2 = scaler2.transform(X2)\n",
    "\n",
    "#Poza standaryzacja i stratyfikacją zbioru treningowego i testowego\n",
    "#ustalam również wagi dla danych klas\n",
    "class_weight = {\n",
    "                0: 3.,\n",
    "                1: 1.\n",
    "               }\n",
    "\n",
    "es = EarlyStopping(monitor='val_precision', mode='max', verbose=1, patience=3)\n",
    "\n",
    "\n"
   ]
  },
  {
   "cell_type": "code",
   "execution_count": 19,
   "metadata": {
    "colab": {
     "base_uri": "https://localhost:8080/",
     "height": 831
    },
    "colab_type": "code",
    "id": "96_dF6xrYklP",
    "outputId": "acbd21f0-d7b4-4853-8fa9-1ab542ef407a"
   },
   "outputs": [
    {
     "data": {
      "image/png": "[encoded data removed]",
      "text/plain": [
       "<Figure size 864x864 with 3 Axes>"
      ]
     },
     "metadata": {
      "needs_background": "light"
     },
     "output_type": "display_data"
    },
    {
     "name": "stdout",
     "output_type": "stream",
     "text": [
      "Log-loss (cost function):\n",
      "training   (min:    0.534, max:    0.650, cur:    0.534)\n",
      "validation (min:    0.508, max:    0.594, cur:    0.508)\n",
      "\n",
      "precision:\n",
      "training   (min:    0.583, max:    0.894, cur:    0.889)\n",
      "validation (min:    0.924, max:    1.000, cur:    0.924)\n",
      "\n",
      "Accuracy:\n",
      "training   (min:    0.797, max:    0.832, cur:    0.832)\n",
      "validation (min:    0.794, max:    0.844, cur:    0.844)\n",
      "Epoch 00004: early stopping\n"
     ]
    },
    {
     "data": {
      "text/plain": [
       "<keras.callbacks.History at 0x1d817a21828>"
      ]
     },
     "execution_count": 19,
     "metadata": {},
     "output_type": "execute_result"
    }
   ],
   "source": [
    "#Buduję pierwszy model - w callbacku korzystam z metody\n",
    "#PlotLossesKeras(), która umożliwi nam tworzenie interesujących nas\n",
    "#wykresów danych metryk w czasie rzeczywistym\n",
    "#korzystam również z early stopping zdefiniowanego wyżej, aby nie dopuścić\n",
    "#do przetrenowania modelu\n",
    "model2 = Sequential()\n",
    "model2.add(Dense(20, activation='relu', input_shape=(10,)))\n",
    "\n",
    "\n",
    "model2.add(Dropout(0.1,))\n",
    "model2.add(Dense(75, activation='relu'))\n",
    "\n",
    "\n",
    "model2.add(Dense(1, activation='sigmoid'))\n",
    "\n",
    "\n",
    "model2.compile(loss='binary_crossentropy',\n",
    "              optimizer='adam',\n",
    "              metrics=[keras_metrics.precision(),'accuracy'])\n",
    "                   \n",
    "model2.fit(X_train_std2, y_train2, epochs=20, batch_size=2,\n",
    "           verbose=1, validation_split=0.25, callbacks = [PlotLossesKeras(), es], class_weight=class_weight)"
   ]
  },
  {
   "cell_type": "code",
   "execution_count": 20,
   "metadata": {
    "colab": {
     "base_uri": "https://localhost:8080/",
     "height": 170
    },
    "colab_type": "code",
    "id": "xeeayTMgOIi0",
    "outputId": "1152a5c9-a44c-49fa-999f-1603929ec2c4"
   },
   "outputs": [
    {
     "name": "stdout",
     "output_type": "stream",
     "text": [
      "              precision    recall  f1-score   support\n",
      "\n",
      "           0       0.84      0.99      0.91      1593\n",
      "           1       0.91      0.24      0.38       407\n",
      "\n",
      "   micro avg       0.84      0.84      0.84      2000\n",
      "   macro avg       0.87      0.62      0.64      2000\n",
      "weighted avg       0.85      0.84      0.80      2000\n",
      "\n"
     ]
    }
   ],
   "source": [
    "#Sprawdźmy predykcję i wygenerujmy raport klasyfikacyjny\n",
    "y_pred2 = model2.predict_classes(X_test_std2)\n",
    "\n",
    "report = classification_report(y_test2, y_pred2, output_dict=False)\n",
    "print(report)"
   ]
  },
  {
   "cell_type": "markdown",
   "metadata": {
    "colab": {},
    "colab_type": "code",
    "id": "xIG2Hk1iG81L"
   },
   "source": [
    "## Patrycja Studzienna i Karolina Schmidt"
   ]
  },
  {
   "cell_type": "code",
   "execution_count": 37,
   "metadata": {},
   "outputs": [
    {
     "name": "stdout",
     "output_type": "stream",
     "text": [
      "<class 'pandas.core.frame.DataFrame'>\n",
      "RangeIndex: 10000 entries, 0 to 9999\n",
      "Data columns (total 12 columns):\n",
      "CreditScore          10000 non-null int64\n",
      "Age                  10000 non-null int64\n",
      "Tenure               10000 non-null int64\n",
      "Balance              10000 non-null float64\n",
      "NumOfProducts        10000 non-null int64\n",
      "HasCrCard            10000 non-null int64\n",
      "IsActiveMember       10000 non-null int64\n",
      "EstimatedSalary      10000 non-null float64\n",
      "Exited               10000 non-null int64\n",
      "Gender_Male          10000 non-null uint8\n",
      "Geography_Germany    10000 non-null uint8\n",
      "Geography_Spain      10000 non-null uint8\n",
      "dtypes: float64(2), int64(7), uint8(3)\n",
      "memory usage: 732.5 KB\n"
     ]
    }
   ],
   "source": [
    "url = 'https://raw.githubusercontent.com/Dalthirr/NeuralNetworks/master/Churn_Modelling.csv'\n",
    "#Pobieranie danych\n",
    "df = pd.read_csv(url)\n",
    "df = df.drop([\"CustomerId\", \"Surname\", \"RowNumber\"],\n",
    "             axis=1)\n",
    "df = pd.concat([df, pd.get_dummies(df[[\"Gender\", \"Geography\"]], drop_first=True)],\n",
    "               sort=False, axis=1).drop(df[[\"Gender\", \"Geography\"]], axis=1)\n",
    "df.info()"
   ]
  },
  {
   "cell_type": "code",
   "execution_count": 38,
   "metadata": {},
   "outputs": [
    {
     "name": "stderr",
     "output_type": "stream",
     "text": [
      "c:\\users\\sebas\\appdata\\local\\programs\\python\\python36\\lib\\site-packages\\sklearn\\preprocessing\\data.py:645: DataConversionWarning: Data with input dtype uint8, int64, float64 were all converted to float64 by StandardScaler.\n",
      "  return self.partial_fit(X, y)\n",
      "c:\\users\\sebas\\appdata\\local\\programs\\python\\python36\\lib\\site-packages\\ipykernel_launcher.py:7: DataConversionWarning: Data with input dtype uint8, int64, float64 were all converted to float64 by StandardScaler.\n",
      "  import sys\n",
      "c:\\users\\sebas\\appdata\\local\\programs\\python\\python36\\lib\\site-packages\\ipykernel_launcher.py:9: DataConversionWarning: Data with input dtype uint8, int64, float64 were all converted to float64 by StandardScaler.\n",
      "  if __name__ == '__main__':\n",
      "c:\\users\\sebas\\appdata\\local\\programs\\python\\python36\\lib\\site-packages\\ipykernel_launcher.py:11: DataConversionWarning: Data with input dtype uint8, int64, float64 were all converted to float64 by StandardScaler.\n",
      "  # This is added back by InteractiveShellApp.init_path()\n"
     ]
    }
   ],
   "source": [
    "X = df.drop(['Exited'], axis=1)\n",
    "y = df['Exited']\n",
    "\n",
    "X_train, X_test, y_train, y_test = train_test_split(X, y, test_size=0.33, random_state=42, stratify=y)\n",
    "\n",
    "scaler = StandardScaler().fit(X_train)\n",
    "X_train_std = scaler.transform(X_train)\n",
    "\n",
    "X_test_std = scaler.transform(X_test)\n",
    "\n",
    "X_std = scaler.transform(X)"
   ]
  },
  {
   "cell_type": "markdown",
   "metadata": {},
   "source": [
    "**Equalising the subsets**"
   ]
  },
  {
   "cell_type": "code",
   "execution_count": 39,
   "metadata": {},
   "outputs": [
    {
     "name": "stderr",
     "output_type": "stream",
     "text": [
      "c:\\users\\sebas\\appdata\\local\\programs\\python\\python36\\lib\\site-packages\\ipykernel_launcher.py:13: DeprecationWarning: \n",
      ".ix is deprecated. Please use\n",
      ".loc for label based indexing or\n",
      ".iloc for positional indexing\n",
      "\n",
      "See the documentation here:\n",
      "http://pandas.pydata.org/pandas-docs/stable/indexing.html#ix-indexer-is-deprecated\n",
      "  del sys.path[0]\n",
      "c:\\users\\sebas\\appdata\\local\\programs\\python\\python36\\lib\\site-packages\\sklearn\\preprocessing\\data.py:645: DataConversionWarning: Data with input dtype uint8, int64, float64 were all converted to float64 by StandardScaler.\n",
      "  return self.partial_fit(X, y)\n",
      "c:\\users\\sebas\\appdata\\local\\programs\\python\\python36\\lib\\site-packages\\ipykernel_launcher.py:21: DataConversionWarning: Data with input dtype uint8, int64, float64 were all converted to float64 by StandardScaler.\n",
      "c:\\users\\sebas\\appdata\\local\\programs\\python\\python36\\lib\\site-packages\\ipykernel_launcher.py:22: DataConversionWarning: Data with input dtype uint8, int64, float64 were all converted to float64 by StandardScaler.\n"
     ]
    }
   ],
   "source": [
    "df = df.drop([\"HasCrCard\"],\n",
    "            axis=1)\n",
    "#empty list for index\n",
    "random_list = []\n",
    "for i in range(len(df.values)):\n",
    "  #sampling from uniform distribution \n",
    "  if (df['Exited'].values)[i] == 0 and random.random() > 0.35:\n",
    "    random_list.append(i)\n",
    "    \n",
    "#equalising the subsets\n",
    "eq_df = df.drop(random_list)\n",
    "#dropped data\n",
    "val_df = df.ix[random_list]\n",
    "# split into input X and output y variables\n",
    "X = (eq_df.drop(['Exited'], axis=1)) #dropping exited\n",
    "y = eq_df.Exited\n",
    "#splitting data for train and test subsets\n",
    "X_train, X_test, y_train, y_test = train_test_split(X, y, test_size=0.15, random_state=123)\n",
    "#standardization\n",
    "scaler = StandardScaler().fit(X_train)\n",
    "X_train_centered = scaler.transform(X_train)\n",
    "X_test_centered = scaler.transform(X_test)"
   ]
  },
  {
   "cell_type": "code",
   "execution_count": 40,
   "metadata": {},
   "outputs": [
    {
     "data": {
      "image/png": "[encoded data removed]",
      "text/plain": [
       "<Figure size 432x288 with 1 Axes>"
      ]
     },
     "metadata": {},
     "output_type": "display_data"
    }
   ],
   "source": [
    "ax = seaborn.countplot(x='Exited', data=eq_df, palette='Set3')\n",
    "df.loc[:,'Exited'].value_counts()\n",
    "plt.show()"
   ]
  },
  {
   "cell_type": "code",
   "execution_count": 41,
   "metadata": {},
   "outputs": [
    {
     "name": "stdout",
     "output_type": "stream",
     "text": [
      "Train on 3439 samples, validate on 608 samples\n",
      "Epoch 1/25\n",
      "3439/3439 [==============================] - 4s 1ms/step - loss: 0.5902 - precision: 0.6598 - acc: 0.6848 - val_loss: 0.5571 - val_precision: 0.7128 - val_acc: 0.7138\n",
      "Epoch 2/25\n",
      "3439/3439 [==============================] - 4s 1ms/step - loss: 0.5482 - precision: 0.7002 - acc: 0.7235 - val_loss: 0.5353 - val_precision: 0.7168 - val_acc: 0.7385\n",
      "Epoch 3/25\n",
      "3439/3439 [==============================] - 4s 1ms/step - loss: 0.5233 - precision: 0.7173 - acc: 0.7435 - val_loss: 0.5174 - val_precision: 0.7711 - val_acc: 0.7566\n",
      "Epoch 4/25\n",
      "3439/3439 [==============================] - 4s 1ms/step - loss: 0.4990 - precision: 0.7404 - acc: 0.7627 - val_loss: 0.4850 - val_precision: 0.7448 - val_acc: 0.7697\n",
      "Epoch 5/25\n",
      "3439/3439 [==============================] - 4s 1ms/step - loss: 0.4802 - precision: 0.7425 - acc: 0.7703 - val_loss: 0.4837 - val_precision: 0.7533 - val_acc: 0.7664\n",
      "Epoch 6/25\n",
      "3439/3439 [==============================] - 4s 1ms/step - loss: 0.4736 - precision: 0.7450 - acc: 0.7703 - val_loss: 0.4737 - val_precision: 0.7748 - val_acc: 0.7780\n",
      "Epoch 7/25\n",
      "3439/3439 [==============================] - 4s 1ms/step - loss: 0.4699 - precision: 0.7525 - acc: 0.7709 - val_loss: 0.4781 - val_precision: 0.7731 - val_acc: 0.7714\n",
      "Epoch 8/25\n",
      "3439/3439 [==============================] - 4s 1ms/step - loss: 0.4638 - precision: 0.7506 - acc: 0.7720 - val_loss: 0.4794 - val_precision: 0.8000 - val_acc: 0.7747\n",
      "Epoch 9/25\n",
      "3439/3439 [==============================] - 4s 1ms/step - loss: 0.4629 - precision: 0.7579 - acc: 0.7720 - val_loss: 0.4762 - val_precision: 0.7598 - val_acc: 0.7730\n",
      "Epoch 10/25\n",
      "3439/3439 [==============================] - 4s 1ms/step - loss: 0.4600 - precision: 0.7575 - acc: 0.7752 - val_loss: 0.4719 - val_precision: 0.7887 - val_acc: 0.7796\n",
      "Epoch 11/25\n",
      "3439/3439 [==============================] - 4s 1ms/step - loss: 0.4569 - precision: 0.7628 - acc: 0.7793 - val_loss: 0.5004 - val_precision: 0.8363 - val_acc: 0.7664\n",
      "Epoch 12/25\n",
      "3439/3439 [==============================] - 4s 1ms/step - loss: 0.4567 - precision: 0.7773 - acc: 0.7834 - val_loss: 0.4796 - val_precision: 0.7542 - val_acc: 0.7780\n",
      "Epoch 13/25\n",
      "3439/3439 [==============================] - 4s 1ms/step - loss: 0.4537 - precision: 0.7657 - acc: 0.7776 - val_loss: 0.4737 - val_precision: 0.7788 - val_acc: 0.7845\n",
      "Epoch 14/25\n",
      "3439/3439 [==============================] - 4s 1ms/step - loss: 0.4518 - precision: 0.7741 - acc: 0.7816 - val_loss: 0.4757 - val_precision: 0.8281 - val_acc: 0.7845\n",
      "Epoch 15/25\n",
      "3439/3439 [==============================] - 4s 1ms/step - loss: 0.4491 - precision: 0.7798 - acc: 0.7839 - val_loss: 0.4703 - val_precision: 0.7928 - val_acc: 0.7911\n",
      "Epoch 16/25\n",
      "3439/3439 [==============================] - 4s 1ms/step - loss: 0.4500 - precision: 0.7723 - acc: 0.7808 - val_loss: 0.4803 - val_precision: 0.8333 - val_acc: 0.7813\n",
      "Epoch 17/25\n",
      "3439/3439 [==============================] - 4s 1ms/step - loss: 0.4456 - precision: 0.7790 - acc: 0.7834 - val_loss: 0.4708 - val_precision: 0.7662 - val_acc: 0.7796\n",
      "Epoch 18/25\n",
      "3439/3439 [==============================] - 4s 1ms/step - loss: 0.4440 - precision: 0.7783 - acc: 0.7851 - val_loss: 0.4838 - val_precision: 0.8333 - val_acc: 0.7813\n",
      "Epoch 19/25\n",
      "3439/3439 [==============================] - 4s 1ms/step - loss: 0.4439 - precision: 0.7840 - acc: 0.7889 - val_loss: 0.4728 - val_precision: 0.8308 - val_acc: 0.7961\n",
      "Epoch 20/25\n",
      "3439/3439 [==============================] - 4s 1ms/step - loss: 0.4403 - precision: 0.7909 - acc: 0.7915 - val_loss: 0.4769 - val_precision: 0.7639 - val_acc: 0.7796\n",
      "Epoch 21/25\n",
      "3439/3439 [==============================] - 4s 1ms/step - loss: 0.4394 - precision: 0.7888 - acc: 0.7886 - val_loss: 0.4763 - val_precision: 0.7432 - val_acc: 0.7829\n",
      "Epoch 22/25\n",
      "3439/3439 [==============================] - 4s 1ms/step - loss: 0.4397 - precision: 0.7839 - acc: 0.7880 - val_loss: 0.4703 - val_precision: 0.7586 - val_acc: 0.7747\n",
      "Epoch 23/25\n",
      "3439/3439 [==============================] - 4s 1ms/step - loss: 0.4387 - precision: 0.7807 - acc: 0.7863 - val_loss: 0.4689 - val_precision: 0.7807 - val_acc: 0.7878\n",
      "Epoch 24/25\n",
      "3439/3439 [==============================] - 4s 1ms/step - loss: 0.4365 - precision: 0.7932 - acc: 0.7933 - val_loss: 0.4681 - val_precision: 0.7880 - val_acc: 0.7829\n",
      "Epoch 25/25\n",
      "3439/3439 [==============================] - 4s 1ms/step - loss: 0.4367 - precision: 0.7874 - acc: 0.7918 - val_loss: 0.4716 - val_precision: 0.8232 - val_acc: 0.7878\n"
     ]
    }
   ],
   "source": [
    "model=Sequential()\n",
    "# Add an input layer shape depends on shape of X. We have 11 columns in X.\n",
    "model.add(Dense(11, activation='relu', kernel_initializer=keras.initializers.glorot_normal(seed=None), input_shape=(10,)))\n",
    "#glorot initializer  normal, uniform\n",
    "#X.Glorot, Y.Benjo, Understanding the difficulty of deep feedforward neural networks\n",
    "# Add one hidden layer \n",
    "model.add(Dense(36, activation='tanh', kernel_initializer=keras.initializers.glorot_normal(seed=None)))\n",
    "\n",
    "\n",
    "# Add an output layer \n",
    "model.add(Dense(1, activation='sigmoid'))\n",
    "\n",
    "\n",
    "model.compile(loss='binary_crossentropy',\n",
    "              optimizer='sgd',\n",
    "              metrics=[keras_metrics.precision(), 'accuracy'])\n",
    "                 \n",
    " \n",
    "history = model.fit(X_train_centered, y_train, validation_split=0.15, epochs=25, batch_size=3, verbose=1)"
   ]
  },
  {
   "cell_type": "code",
   "execution_count": 43,
   "metadata": {},
   "outputs": [
    {
     "ename": "ExecutableNotFound",
     "evalue": "failed to execute ['dot', '-Tpdf', '-O', 'model'], make sure the Graphviz executables are on your systems' PATH",
     "output_type": "error",
     "traceback": [
      "\u001b[1;31m---------------------------------------------------------------------------\u001b[0m",
      "\u001b[1;31mFileNotFoundError\u001b[0m                         Traceback (most recent call last)",
      "\u001b[1;32mc:\\users\\sebas\\appdata\\local\\programs\\python\\python36\\lib\\site-packages\\graphviz\\backend.py\u001b[0m in \u001b[0;36mrun\u001b[1;34m(cmd, input, capture_output, check, quiet, **kwargs)\u001b[0m\n\u001b[0;32m    145\u001b[0m     \u001b[1;32mtry\u001b[0m\u001b[1;33m:\u001b[0m\u001b[1;33m\u001b[0m\u001b[1;33m\u001b[0m\u001b[0m\n\u001b[1;32m--> 146\u001b[1;33m         \u001b[0mproc\u001b[0m \u001b[1;33m=\u001b[0m \u001b[0msubprocess\u001b[0m\u001b[1;33m.\u001b[0m\u001b[0mPopen\u001b[0m\u001b[1;33m(\u001b[0m\u001b[0mcmd\u001b[0m\u001b[1;33m,\u001b[0m \u001b[0mstartupinfo\u001b[0m\u001b[1;33m=\u001b[0m\u001b[0mget_startupinfo\u001b[0m\u001b[1;33m(\u001b[0m\u001b[1;33m)\u001b[0m\u001b[1;33m,\u001b[0m \u001b[1;33m**\u001b[0m\u001b[0mkwargs\u001b[0m\u001b[1;33m)\u001b[0m\u001b[1;33m\u001b[0m\u001b[1;33m\u001b[0m\u001b[0m\n\u001b[0m\u001b[0;32m    147\u001b[0m     \u001b[1;32mexcept\u001b[0m \u001b[0mOSError\u001b[0m \u001b[1;32mas\u001b[0m \u001b[0me\u001b[0m\u001b[1;33m:\u001b[0m\u001b[1;33m\u001b[0m\u001b[1;33m\u001b[0m\u001b[0m\n",
      "\u001b[1;32mc:\\users\\sebas\\appdata\\local\\programs\\python\\python36\\lib\\subprocess.py\u001b[0m in \u001b[0;36m__init__\u001b[1;34m(self, args, bufsize, executable, stdin, stdout, stderr, preexec_fn, close_fds, shell, cwd, env, universal_newlines, startupinfo, creationflags, restore_signals, start_new_session, pass_fds, encoding, errors)\u001b[0m\n\u001b[0;32m    728\u001b[0m                                 \u001b[0merrread\u001b[0m\u001b[1;33m,\u001b[0m \u001b[0merrwrite\u001b[0m\u001b[1;33m,\u001b[0m\u001b[1;33m\u001b[0m\u001b[1;33m\u001b[0m\u001b[0m\n\u001b[1;32m--> 729\u001b[1;33m                                 restore_signals, start_new_session)\n\u001b[0m\u001b[0;32m    730\u001b[0m         \u001b[1;32mexcept\u001b[0m\u001b[1;33m:\u001b[0m\u001b[1;33m\u001b[0m\u001b[1;33m\u001b[0m\u001b[0m\n",
      "\u001b[1;32mc:\\users\\sebas\\appdata\\local\\programs\\python\\python36\\lib\\subprocess.py\u001b[0m in \u001b[0;36m_execute_child\u001b[1;34m(self, args, executable, preexec_fn, close_fds, pass_fds, cwd, env, startupinfo, creationflags, shell, p2cread, p2cwrite, c2pread, c2pwrite, errread, errwrite, unused_restore_signals, unused_start_new_session)\u001b[0m\n\u001b[0;32m   1016\u001b[0m                                          \u001b[0mos\u001b[0m\u001b[1;33m.\u001b[0m\u001b[0mfspath\u001b[0m\u001b[1;33m(\u001b[0m\u001b[0mcwd\u001b[0m\u001b[1;33m)\u001b[0m \u001b[1;32mif\u001b[0m \u001b[0mcwd\u001b[0m \u001b[1;32mis\u001b[0m \u001b[1;32mnot\u001b[0m \u001b[1;32mNone\u001b[0m \u001b[1;32melse\u001b[0m \u001b[1;32mNone\u001b[0m\u001b[1;33m,\u001b[0m\u001b[1;33m\u001b[0m\u001b[1;33m\u001b[0m\u001b[0m\n\u001b[1;32m-> 1017\u001b[1;33m                                          startupinfo)\n\u001b[0m\u001b[0;32m   1018\u001b[0m             \u001b[1;32mfinally\u001b[0m\u001b[1;33m:\u001b[0m\u001b[1;33m\u001b[0m\u001b[1;33m\u001b[0m\u001b[0m\n",
      "\u001b[1;31mFileNotFoundError\u001b[0m: [WinError 2] Nie można odnaleźć określonego pliku",
      "\nDuring handling of the above exception, another exception occurred:\n",
      "\u001b[1;31mExecutableNotFound\u001b[0m                        Traceback (most recent call last)",
      "\u001b[1;32m<ipython-input-43-cb8e4081a53c>\u001b[0m in \u001b[0;36m<module>\u001b[1;34m\u001b[0m\n\u001b[0;32m      2\u001b[0m \u001b[0mget_ipython\u001b[0m\u001b[1;33m(\u001b[0m\u001b[1;33m)\u001b[0m\u001b[1;33m.\u001b[0m\u001b[0msystem\u001b[0m\u001b[1;33m(\u001b[0m\u001b[1;34m'pip install -q ann_visualizer'\u001b[0m\u001b[1;33m)\u001b[0m\u001b[1;33m\u001b[0m\u001b[1;33m\u001b[0m\u001b[0m\n\u001b[0;32m      3\u001b[0m \u001b[1;32mfrom\u001b[0m \u001b[0mann_visualizer\u001b[0m\u001b[1;33m.\u001b[0m\u001b[0mvisualize\u001b[0m \u001b[1;32mimport\u001b[0m \u001b[0mann_viz\u001b[0m\u001b[1;33m\u001b[0m\u001b[1;33m\u001b[0m\u001b[0m\n\u001b[1;32m----> 4\u001b[1;33m \u001b[0mann_viz\u001b[0m\u001b[1;33m(\u001b[0m\u001b[0mmodel\u001b[0m\u001b[1;33m,\u001b[0m \u001b[0mview\u001b[0m\u001b[1;33m=\u001b[0m\u001b[1;32mTrue\u001b[0m\u001b[1;33m,\u001b[0m \u001b[0mfilename\u001b[0m\u001b[1;33m=\u001b[0m\u001b[1;34m\"model\"\u001b[0m\u001b[1;33m)\u001b[0m\u001b[1;33m\u001b[0m\u001b[1;33m\u001b[0m\u001b[0m\n\u001b[0m",
      "\u001b[1;32mc:\\users\\sebas\\appdata\\local\\programs\\python\\python36\\lib\\site-packages\\ann_visualizer\\visualize.py\u001b[0m in \u001b[0;36mann_viz\u001b[1;34m(model, view, filename, title)\u001b[0m\n\u001b[0;32m    204\u001b[0m         \u001b[0mg\u001b[0m\u001b[1;33m.\u001b[0m\u001b[0medge_attr\u001b[0m\u001b[1;33m.\u001b[0m\u001b[0mupdate\u001b[0m\u001b[1;33m(\u001b[0m\u001b[0marrowhead\u001b[0m\u001b[1;33m=\u001b[0m\u001b[1;34m\"none\"\u001b[0m\u001b[1;33m,\u001b[0m \u001b[0mcolor\u001b[0m\u001b[1;33m=\u001b[0m\u001b[1;34m\"#707070\"\u001b[0m\u001b[1;33m)\u001b[0m\u001b[1;33m;\u001b[0m\u001b[1;33m\u001b[0m\u001b[1;33m\u001b[0m\u001b[0m\n\u001b[0;32m    205\u001b[0m         \u001b[1;32mif\u001b[0m \u001b[0mview\u001b[0m \u001b[1;33m==\u001b[0m \u001b[1;32mTrue\u001b[0m\u001b[1;33m:\u001b[0m\u001b[1;33m\u001b[0m\u001b[1;33m\u001b[0m\u001b[0m\n\u001b[1;32m--> 206\u001b[1;33m             \u001b[0mg\u001b[0m\u001b[1;33m.\u001b[0m\u001b[0mview\u001b[0m\u001b[1;33m(\u001b[0m\u001b[1;33m)\u001b[0m\u001b[1;33m;\u001b[0m\u001b[1;33m\u001b[0m\u001b[1;33m\u001b[0m\u001b[0m\n\u001b[0m",
      "\u001b[1;32mc:\\users\\sebas\\appdata\\local\\programs\\python\\python36\\lib\\site-packages\\graphviz\\files.py\u001b[0m in \u001b[0;36mview\u001b[1;34m(self, filename, directory, cleanup, quiet)\u001b[0m\n\u001b[0;32m    227\u001b[0m         \"\"\"\n\u001b[0;32m    228\u001b[0m         return self.render(filename=filename, directory=directory,\n\u001b[1;32m--> 229\u001b[1;33m                            view=True, cleanup=cleanup, quiet=quiet)\n\u001b[0m\u001b[0;32m    230\u001b[0m \u001b[1;33m\u001b[0m\u001b[0m\n\u001b[0;32m    231\u001b[0m     \u001b[1;32mdef\u001b[0m \u001b[0m_view\u001b[0m\u001b[1;33m(\u001b[0m\u001b[0mself\u001b[0m\u001b[1;33m,\u001b[0m \u001b[0mfilepath\u001b[0m\u001b[1;33m,\u001b[0m \u001b[0mformat\u001b[0m\u001b[1;33m)\u001b[0m\u001b[1;33m:\u001b[0m\u001b[1;33m\u001b[0m\u001b[1;33m\u001b[0m\u001b[0m\n",
      "\u001b[1;32mc:\\users\\sebas\\appdata\\local\\programs\\python\\python36\\lib\\site-packages\\graphviz\\files.py\u001b[0m in \u001b[0;36mrender\u001b[1;34m(self, filename, directory, view, cleanup, format, renderer, formatter, quiet)\u001b[0m\n\u001b[0;32m    199\u001b[0m         rendered = backend.render(self._engine, format, filepath,\n\u001b[0;32m    200\u001b[0m                                   \u001b[0mrenderer\u001b[0m\u001b[1;33m=\u001b[0m\u001b[0mrenderer\u001b[0m\u001b[1;33m,\u001b[0m \u001b[0mformatter\u001b[0m\u001b[1;33m=\u001b[0m\u001b[0mformatter\u001b[0m\u001b[1;33m,\u001b[0m\u001b[1;33m\u001b[0m\u001b[1;33m\u001b[0m\u001b[0m\n\u001b[1;32m--> 201\u001b[1;33m                                   quiet=quiet)\n\u001b[0m\u001b[0;32m    202\u001b[0m \u001b[1;33m\u001b[0m\u001b[0m\n\u001b[0;32m    203\u001b[0m         \u001b[1;32mif\u001b[0m \u001b[0mcleanup\u001b[0m\u001b[1;33m:\u001b[0m\u001b[1;33m\u001b[0m\u001b[1;33m\u001b[0m\u001b[0m\n",
      "\u001b[1;32mc:\\users\\sebas\\appdata\\local\\programs\\python\\python36\\lib\\site-packages\\graphviz\\backend.py\u001b[0m in \u001b[0;36mrender\u001b[1;34m(engine, format, filepath, renderer, formatter, quiet)\u001b[0m\n\u001b[0;32m    191\u001b[0m     \u001b[1;32melse\u001b[0m\u001b[1;33m:\u001b[0m\u001b[1;33m\u001b[0m\u001b[1;33m\u001b[0m\u001b[0m\n\u001b[0;32m    192\u001b[0m         \u001b[0mcwd\u001b[0m \u001b[1;33m=\u001b[0m \u001b[1;32mNone\u001b[0m\u001b[1;33m\u001b[0m\u001b[1;33m\u001b[0m\u001b[0m\n\u001b[1;32m--> 193\u001b[1;33m     \u001b[0mrun\u001b[0m\u001b[1;33m(\u001b[0m\u001b[0mcmd\u001b[0m\u001b[1;33m,\u001b[0m \u001b[0mcapture_output\u001b[0m\u001b[1;33m=\u001b[0m\u001b[1;32mTrue\u001b[0m\u001b[1;33m,\u001b[0m \u001b[0mcwd\u001b[0m\u001b[1;33m=\u001b[0m\u001b[0mcwd\u001b[0m\u001b[1;33m,\u001b[0m \u001b[0mcheck\u001b[0m\u001b[1;33m=\u001b[0m\u001b[1;32mTrue\u001b[0m\u001b[1;33m,\u001b[0m \u001b[0mquiet\u001b[0m\u001b[1;33m=\u001b[0m\u001b[0mquiet\u001b[0m\u001b[1;33m)\u001b[0m\u001b[1;33m\u001b[0m\u001b[1;33m\u001b[0m\u001b[0m\n\u001b[0m\u001b[0;32m    194\u001b[0m     \u001b[1;32mreturn\u001b[0m \u001b[0mrendered\u001b[0m\u001b[1;33m\u001b[0m\u001b[1;33m\u001b[0m\u001b[0m\n\u001b[0;32m    195\u001b[0m \u001b[1;33m\u001b[0m\u001b[0m\n",
      "\u001b[1;32mc:\\users\\sebas\\appdata\\local\\programs\\python\\python36\\lib\\site-packages\\graphviz\\backend.py\u001b[0m in \u001b[0;36mrun\u001b[1;34m(cmd, input, capture_output, check, quiet, **kwargs)\u001b[0m\n\u001b[0;32m    147\u001b[0m     \u001b[1;32mexcept\u001b[0m \u001b[0mOSError\u001b[0m \u001b[1;32mas\u001b[0m \u001b[0me\u001b[0m\u001b[1;33m:\u001b[0m\u001b[1;33m\u001b[0m\u001b[1;33m\u001b[0m\u001b[0m\n\u001b[0;32m    148\u001b[0m         \u001b[1;32mif\u001b[0m \u001b[0me\u001b[0m\u001b[1;33m.\u001b[0m\u001b[0merrno\u001b[0m \u001b[1;33m==\u001b[0m \u001b[0merrno\u001b[0m\u001b[1;33m.\u001b[0m\u001b[0mENOENT\u001b[0m\u001b[1;33m:\u001b[0m\u001b[1;33m\u001b[0m\u001b[1;33m\u001b[0m\u001b[0m\n\u001b[1;32m--> 149\u001b[1;33m             \u001b[1;32mraise\u001b[0m \u001b[0mExecutableNotFound\u001b[0m\u001b[1;33m(\u001b[0m\u001b[0mcmd\u001b[0m\u001b[1;33m)\u001b[0m\u001b[1;33m\u001b[0m\u001b[1;33m\u001b[0m\u001b[0m\n\u001b[0m\u001b[0;32m    150\u001b[0m         \u001b[1;32melse\u001b[0m\u001b[1;33m:\u001b[0m\u001b[1;33m\u001b[0m\u001b[1;33m\u001b[0m\u001b[0m\n\u001b[0;32m    151\u001b[0m             \u001b[1;32mraise\u001b[0m\u001b[1;33m\u001b[0m\u001b[1;33m\u001b[0m\u001b[0m\n",
      "\u001b[1;31mExecutableNotFound\u001b[0m: failed to execute ['dot', '-Tpdf', '-O', 'model'], make sure the Graphviz executables are on your systems' PATH"
     ]
    }
   ],
   "source": [
    "!pip install -q graphviz\n",
    "!pip install -q ann_visualizer\n",
    "from ann_visualizer.visualize import ann_viz\n",
    "ann_viz(model, view=True, filename=\"model\")"
   ]
  },
  {
   "cell_type": "code",
   "execution_count": 44,
   "metadata": {},
   "outputs": [
    {
     "data": {
      "image/png": "[encoded data removed]",
      "text/plain": [
       "<Figure size 864x432 with 1 Axes>"
      ]
     },
     "metadata": {},
     "output_type": "display_data"
    },
    {
     "data": {
      "image/png": "[encoded data removed]",
      "text/plain": [
       "<Figure size 864x432 with 1 Axes>"
      ]
     },
     "metadata": {},
     "output_type": "display_data"
    }
   ],
   "source": [
    "plt.style.use('ggplot')\n",
    "plt.figure(figsize = (12,6))\n",
    "plt.plot(history.history['acc'])\n",
    "plt.plot(history.history['val_acc'])\n",
    "plt.title('model accuracy')\n",
    "plt.ylabel('accuracy')\n",
    "plt.xlabel('epoch')\n",
    "plt.legend(['train', 'test'], loc='upper left')\n",
    "plt.show()\n",
    "plt.figure(figsize = (12,6))\n",
    "plt.plot(history.history['precision'])\n",
    "plt.plot(history.history['val_precision'])\n",
    "plt.title('model precision')\n",
    "plt.ylabel('precision')\n",
    "plt.xlabel('epoch')\n",
    "plt.legend(['train', 'test'], loc='upper left')\n",
    "plt.show()"
   ]
  },
  {
   "cell_type": "code",
   "execution_count": 45,
   "metadata": {},
   "outputs": [
    {
     "data": {
      "image/png": "[encoded data removed]",
      "text/plain": [
       "<Figure size 864x432 with 1 Axes>"
      ]
     },
     "metadata": {},
     "output_type": "display_data"
    }
   ],
   "source": [
    "plt.style.use('ggplot')\n",
    "plt.figure(figsize = (12,6))\n",
    "plt.plot(history.history['loss'])\n",
    "plt.plot(history.history['val_loss'])\n",
    "plt.title('model loss')\n",
    "plt.ylabel('loss')\n",
    "plt.xlabel('epoch')\n",
    "plt.legend(['train', 'test'], loc='upper left')\n",
    "plt.show()"
   ]
  },
  {
   "cell_type": "markdown",
   "metadata": {},
   "source": [
    "**Performance Metrics**"
   ]
  },
  {
   "cell_type": "markdown",
   "metadata": {},
   "source": [
    "**Confusion matrix**"
   ]
  },
  {
   "cell_type": "code",
   "execution_count": 46,
   "metadata": {},
   "outputs": [
    {
     "data": {
      "image/png": "[encoded data removed]",
      "text/plain": [
       "<Figure size 288x288 with 1 Axes>"
      ]
     },
     "metadata": {},
     "output_type": "display_data"
    }
   ],
   "source": [
    "from sklearn.metrics import confusion_matrix\n",
    "y_pred = model.predict_classes(X_test_centered)\n",
    "confmat = confusion_matrix(y_test,y_pred)\n",
    "fig, ax = plt.subplots(figsize=(4, 4))\n",
    "ax.matshow(confmat, cmap=plt.cm.Blues, alpha=.3)\n",
    "plt.grid()\n",
    "for i in range(confmat.shape[0]):\n",
    "  for j in range(confmat.shape[1]):\n",
    "    ax.text(x=j, y=i, s=confmat[i, j], va='center', ha='center')\n",
    "    \n",
    "plt.xlabel('Przewidywana etykieta')\n",
    "plt.ylabel('Rzeczywista etykieta')\n",
    "plt.show()"
   ]
  },
  {
   "cell_type": "code",
   "execution_count": 47,
   "metadata": {},
   "outputs": [
    {
     "name": "stdout",
     "output_type": "stream",
     "text": [
      "Błąd 19.860140% \n",
      "Dokładność 80.139860% \n",
      "Precision 71.517028% \n",
      "Recall 82.206406% \n",
      "True positive rate 21.198157% \n",
      "False positive rate 82.206406% \n"
     ]
    }
   ],
   "source": [
    "FP = confmat[1][0]   #false positive\n",
    "TP = confmat[1][1]   #true positive\n",
    "TN = confmat[0][0]   #true negative\n",
    "FN = confmat[0][1]   #false negative\n",
    "\n",
    "error = (FP+FN)/(FP+FN+TP+TN)*100\n",
    "acc = (TP+TN)/(FP+FN+TP+TN)*100\n",
    "\n",
    "ofp = FP/(FP+TN)*100   #true positive rate\n",
    "opp = TP/(FN+TP)*100   #false positive rate\n",
    "\n",
    "pre = TP/(TP+FP)*100   #precision\n",
    "recall = TP/(FN+TP)*100 #recall (pełność)\n",
    "\n",
    "print(\"Błąd %f%% \" % error)\n",
    "print(\"Dokładność %f%% \" % acc)\n",
    "print(\"Precision %f%% \" % pre)\n",
    "print(\"Recall %f%% \" % recall)\n",
    "print(\"True positive rate %f%% \" % ofp)\n",
    "print(\"False positive rate %f%% \" % opp)"
   ]
  },
  {
   "cell_type": "markdown",
   "metadata": {},
   "source": [
    "**Rejected samples**"
   ]
  },
  {
   "cell_type": "code",
   "execution_count": 48,
   "metadata": {},
   "outputs": [
    {
     "name": "stdout",
     "output_type": "stream",
     "text": [
      "Ilość próbek 5238.000000, Poprawnie sklasyfikowane 3545.000000\n",
      "Błąd 32.321497% \n",
      "Dokładność 67.678503% \n"
     ]
    },
    {
     "name": "stderr",
     "output_type": "stream",
     "text": [
      "c:\\users\\sebas\\appdata\\local\\programs\\python\\python36\\lib\\site-packages\\ipykernel_launcher.py:1: DeprecationWarning: \n",
      ".ix is deprecated. Please use\n",
      ".loc for label based indexing or\n",
      ".iloc for positional indexing\n",
      "\n",
      "See the documentation here:\n",
      "http://pandas.pydata.org/pandas-docs/stable/indexing.html#ix-indexer-is-deprecated\n",
      "  \"\"\"Entry point for launching an IPython kernel.\n",
      "c:\\users\\sebas\\appdata\\local\\programs\\python\\python36\\lib\\site-packages\\sklearn\\preprocessing\\data.py:645: DataConversionWarning: Data with input dtype uint8, int64, float64 were all converted to float64 by StandardScaler.\n",
      "  return self.partial_fit(X, y)\n",
      "c:\\users\\sebas\\appdata\\local\\programs\\python\\python36\\lib\\site-packages\\ipykernel_launcher.py:7: DataConversionWarning: Data with input dtype uint8, int64, float64 were all converted to float64 by StandardScaler.\n",
      "  import sys\n"
     ]
    }
   ],
   "source": [
    "val_df = df.ix[random_list]\n",
    "# split into input X and output y variables\n",
    "X_val = (val_df.drop(['Exited'], axis = 1)) #dropping exited\n",
    "y_val = val_df.Exited\n",
    "#standardization\n",
    "scaler=StandardScaler().fit(X_val)\n",
    "X_val_centered = scaler.transform(X_val)\n",
    "y_vpred = model.predict_classes(X_val_centered)\n",
    "val_confmat = confusion_matrix(y_val,y_vpred)\n",
    "val_FP = val_confmat[1][0]   #false positive\n",
    "val_TP = val_confmat[1][1]   #true positive\n",
    "val_TN = val_confmat[0][0]   #true negative\n",
    "val_FN = val_confmat[0][1]   #false negative\n",
    "val_error = (val_FP+val_FN)/(val_FP+val_FN+val_TP+val_TN)*100\n",
    "val_acc = (val_TP+val_TN)/(val_FP+val_FN+val_TP+val_TN)*100\n",
    "print(\"Ilość próbek %f, Poprawnie sklasyfikowane %f\" %(int(len(y_val)), int(val_confmat[0][0])))\n",
    "print(\"Błąd %f%% \" % val_error)\n",
    "print(\"Dokładność %f%% \" % val_acc)"
   ]
  },
  {
   "cell_type": "code",
   "execution_count": null,
   "metadata": {},
   "outputs": [],
   "source": []
  }
 ],
 "metadata": {
  "accelerator": "GPU",
  "colab": {
   "include_colab_link": true,
   "name": "model.ipynb",
   "provenance": [],
   "toc_visible": true,
   "version": "0.3.2"
  },
  "hide_input": false,
  "kernelspec": {
   "display_name": "Python 3",
   "language": "python",
   "name": "python3"
  },
  "language_info": {
   "codemirror_mode": {
    "name": "ipython",
    "version": 3
   },
   "file_extension": ".py",
   "mimetype": "text/x-python",
   "name": "python",
   "nbconvert_exporter": "python",
   "pygments_lexer": "ipython3",
   "version": "3.5.2"
  },
  "toc": {
   "base_numbering": 1,
   "nav_menu": {},
   "number_sections": true,
   "sideBar": true,
   "skip_h1_title": false,
   "title_cell": "Table of Contents",
   "title_sidebar": "Contents",
   "toc_cell": false,
   "toc_position": {},
   "toc_section_display": true,
   "toc_window_display": false
  }
 },
 "nbformat": 4,
 "nbformat_minor": 1
}
