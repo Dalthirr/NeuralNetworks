{
 "cells": [
  {
   "cell_type": "markdown",
   "metadata": {},
   "source": [
    "## Import necessary modules and data"
   ]
  },
  {
   "cell_type": "code",
   "execution_count": 1,
   "metadata": {},
   "outputs": [
    {
     "name": "stderr",
     "output_type": "stream",
     "text": [
      "Using TensorFlow backend.\n"
     ]
    }
   ],
   "source": [
    "import numpy as np\n",
    "import pandas as pd\n",
    "import seaborn\n",
    "import matplotlib.pyplot as plt\n",
    "from sklearn.model_selection import train_test_split\n",
    "from sklearn.preprocessing import StandardScaler\n",
    "from sklearn.metrics import classification_report, confusion_matrix\n",
    "from sklearn.metrics import precision_recall_fscore_support as score\n",
    "from keras_metrics import precision\n",
    "from sklearn.model_selection import cross_validate\n",
    "from livelossplot import PlotLossesKeras\n",
    "from keras.models import Sequential\n",
    "from keras.callbacks import EarlyStopping\n",
    "from keras.layers import Dense\n",
    "from keras.layers import Dropout\n",
    "from keras.callbacks import EarlyStopping\n",
    "from keras_metrics import precision\n",
    "from keras.initializers import glorot_normal\n",
    "import random\n",
    "\n"
   ]
  },
  {
   "cell_type": "markdown",
   "metadata": {},
   "source": [
    "## Wczytujemy zbiór danych"
   ]
  },
  {
   "cell_type": "code",
   "execution_count": 2,
   "metadata": {},
   "outputs": [
    {
     "name": "stdout",
     "output_type": "stream",
     "text": [
      "<class 'pandas.core.frame.DataFrame'>\n",
      "RangeIndex: 10000 entries, 0 to 9999\n",
      "Data columns (total 12 columns):\n",
      "CreditScore          10000 non-null int64\n",
      "Age                  10000 non-null int64\n",
      "Tenure               10000 non-null int64\n",
      "Balance              10000 non-null float64\n",
      "NumOfProducts        10000 non-null int64\n",
      "HasCrCard            10000 non-null int64\n",
      "IsActiveMember       10000 non-null int64\n",
      "EstimatedSalary      10000 non-null float64\n",
      "Exited               10000 non-null int64\n",
      "Gender_Male          10000 non-null uint8\n",
      "Geography_Germany    10000 non-null uint8\n",
      "Geography_Spain      10000 non-null uint8\n",
      "dtypes: float64(2), int64(7), uint8(3)\n",
      "memory usage: 732.5 KB\n"
     ]
    }
   ],
   "source": [
    "url = 'https://raw.githubusercontent.com/Dalthirr/NeuralNetworks/master/data/Churn_Modelling.csv'\n",
    "\n",
    "df = pd.read_csv(url)\n",
    "df = df.drop([\"CustomerId\", \"Surname\", \"RowNumber\"],\n",
    "             axis=1)\n",
    "df = pd.concat([df, pd.get_dummies(df[[\"Gender\", \"Geography\"]], drop_first=True)],\n",
    "               sort=False, axis=1).drop(df[[\"Gender\", \"Geography\"]], axis=1)\n",
    "df.info()"
   ]
  },
  {
   "cell_type": "markdown",
   "metadata": {},
   "source": [
    "## Wyrzucamy zmienną odnośnie posiadania karty kredytowej i stratyfikujemy zbiór tak, żeby wyrównać proporcje etykiet"
   ]
  },
  {
   "cell_type": "code",
   "execution_count": 3,
   "metadata": {},
   "outputs": [
    {
     "name": "stderr",
     "output_type": "stream",
     "text": [
      "/home/seba/.virtualenvs/rl/lib/python3.5/site-packages/ipykernel_launcher.py:13: DeprecationWarning: \n",
      ".ix is deprecated. Please use\n",
      ".loc for label based indexing or\n",
      ".iloc for positional indexing\n",
      "\n",
      "See the documentation here:\n",
      "http://pandas.pydata.org/pandas-docs/stable/indexing.html#ix-indexer-is-deprecated\n",
      "  del sys.path[0]\n"
     ]
    }
   ],
   "source": [
    "df = df.drop([\"HasCrCard\"],\n",
    "            axis=1)\n",
    "#empty list for index\n",
    "random_list = []\n",
    "for i in range(len(df.values)):\n",
    "  #sampling from uniform distribution \n",
    "  if (df['Exited'].values)[i] == 0 and random.random() > 0.35:\n",
    "    random_list.append(i)\n",
    "    \n",
    "#equalising the subsets\n",
    "eq_df = df.drop(random_list)\n",
    "#dropped data\n",
    "val_df = df.ix[random_list]"
   ]
  },
  {
   "cell_type": "markdown",
   "metadata": {},
   "source": [
    "## Tworzymy zbiór treningowy i testowy, standaryzujemy i stratyfikujemy odpowiednio do proporcji etykiet"
   ]
  },
  {
   "cell_type": "code",
   "execution_count": 4,
   "metadata": {},
   "outputs": [
    {
     "name": "stderr",
     "output_type": "stream",
     "text": [
      "/home/seba/.virtualenvs/rl/lib/python3.5/site-packages/sklearn/preprocessing/data.py:645: DataConversionWarning: Data with input dtype uint8, int64, float64 were all converted to float64 by StandardScaler.\n",
      "  return self.partial_fit(X, y)\n",
      "/home/seba/.virtualenvs/rl/lib/python3.5/site-packages/ipykernel_launcher.py:8: DataConversionWarning: Data with input dtype uint8, int64, float64 were all converted to float64 by StandardScaler.\n",
      "  \n",
      "/home/seba/.virtualenvs/rl/lib/python3.5/site-packages/ipykernel_launcher.py:9: DataConversionWarning: Data with input dtype uint8, int64, float64 were all converted to float64 by StandardScaler.\n",
      "  if __name__ == '__main__':\n"
     ]
    }
   ],
   "source": [
    "# split into input X and output y variables\n",
    "X = (eq_df.drop(['Exited'], axis=1)) #dropping exited\n",
    "y = eq_df.Exited\n",
    "#splitting data for train and test subsets\n",
    "X_train, X_test, y_train, y_test = train_test_split(X, y, test_size=0.15, random_state=123)\n",
    "#standardization\n",
    "scaler = StandardScaler().fit(X_train)\n",
    "X_train_centered = scaler.transform(X_train)\n",
    "X_test_centered = scaler.transform(X_test)"
   ]
  },
  {
   "cell_type": "markdown",
   "metadata": {},
   "source": [
    "## Sprawdźmy teraz proporcje etykiet w zbiorze"
   ]
  },
  {
   "cell_type": "code",
   "execution_count": 5,
   "metadata": {},
   "outputs": [
    {
     "data": {
      "image/png": "[encoded data removed]",
      "text/plain": [
       "<Figure size 432x288 with 1 Axes>"
      ]
     },
     "metadata": {
      "needs_background": "light"
     },
     "output_type": "display_data"
    }
   ],
   "source": [
    "ax = seaborn.countplot(x='Exited', data=eq_df, palette='Set3')\n",
    "df.loc[:,'Exited'].value_counts()\n",
    "plt.show()"
   ]
  },
  {
   "cell_type": "markdown",
   "metadata": {},
   "source": [
    "## Wydają się znacznie bardziej wyrównane niż pierwotnie. Przejdźmy zatem do tworzenia modelu"
   ]
  },
  {
   "cell_type": "code",
   "execution_count": 7,
   "metadata": {},
   "outputs": [
    {
     "name": "stdout",
     "output_type": "stream",
     "text": [
      "tracking <tf.Variable 'Variable:0' shape=() dtype=int32, numpy=0> tp\n",
      "tracking <tf.Variable 'Variable:0' shape=() dtype=int32, numpy=0> fp\n",
      "Train on 3515 samples, validate on 621 samples\n",
      "Epoch 1/25\n",
      "3515/3515 [==============================] - 1s 307us/step - loss: 0.6054 - precision: 0.6212 - accuracy: 0.6740 - val_loss: 0.5961 - val_precision: 0.6060 - val_accuracy: 0.6763\n",
      "Epoch 2/25\n",
      "3515/3515 [==============================] - 1s 322us/step - loss: 0.5695 - precision: 0.6534 - accuracy: 0.7124 - val_loss: 0.5865 - val_precision: 0.6429 - val_accuracy: 0.6924\n",
      "Epoch 3/25\n",
      "3515/3515 [==============================] - 1s 356us/step - loss: 0.5558 - precision: 0.6809 - accuracy: 0.7203 - val_loss: 0.5799 - val_precision: 0.7280 - val_accuracy: 0.7230\n",
      "Epoch 4/25\n",
      "3515/3515 [==============================] - 1s 325us/step - loss: 0.5475 - precision: 0.6823 - accuracy: 0.7306 - val_loss: 0.5662 - val_precision: 0.7117 - val_accuracy: 0.7279\n",
      "Epoch 5/25\n",
      "3515/3515 [==============================] - 1s 304us/step - loss: 0.5333 - precision: 0.7022 - accuracy: 0.7385 - val_loss: 0.5511 - val_precision: 0.7124 - val_accuracy: 0.7327\n",
      "Epoch 6/25\n",
      "3515/3515 [==============================] - 1s 279us/step - loss: 0.5146 - precision: 0.7317 - accuracy: 0.7525 - val_loss: 0.5343 - val_precision: 0.7148 - val_accuracy: 0.7456\n",
      "Epoch 7/25\n",
      "3515/3515 [==============================] - 1s 285us/step - loss: 0.4933 - precision: 0.7299 - accuracy: 0.7602 - val_loss: 0.5337 - val_precision: 0.7161 - val_accuracy: 0.7424\n",
      "Epoch 8/25\n",
      "3515/3515 [==============================] - 1s 281us/step - loss: 0.4797 - precision: 0.7145 - accuracy: 0.7673 - val_loss: 0.5111 - val_precision: 0.7675 - val_accuracy: 0.7665\n",
      "Epoch 9/25\n",
      "3515/3515 [==============================] - 1s 293us/step - loss: 0.4704 - precision: 0.7489 - accuracy: 0.7750 - val_loss: 0.5132 - val_precision: 0.7296 - val_accuracy: 0.7488\n",
      "Epoch 10/25\n",
      "3515/3515 [==============================] - 1s 284us/step - loss: 0.4664 - precision: 0.7331 - accuracy: 0.7750 - val_loss: 0.4933 - val_precision: 0.7616 - val_accuracy: 0.7681\n",
      "Epoch 11/25\n",
      "3515/3515 [==============================] - 1s 297us/step - loss: 0.4619 - precision: 0.7627 - accuracy: 0.7812 - val_loss: 0.4974 - val_precision: 0.7581 - val_accuracy: 0.7713\n",
      "Epoch 12/25\n",
      "3515/3515 [==============================] - 1s 303us/step - loss: 0.4575 - precision: 0.7621 - accuracy: 0.7824 - val_loss: 0.5023 - val_precision: 0.7488 - val_accuracy: 0.7697\n",
      "Epoch 13/25\n",
      "3515/3515 [==============================] - 1s 290us/step - loss: 0.4557 - precision: 0.7704 - accuracy: 0.7863 - val_loss: 0.5027 - val_precision: 0.7582 - val_accuracy: 0.7633\n",
      "Epoch 14/25\n",
      "3515/3515 [==============================] - 1s 274us/step - loss: 0.4534 - precision: 0.7789 - accuracy: 0.7886 - val_loss: 0.5106 - val_precision: 0.7330 - val_accuracy: 0.7536\n",
      "Epoch 15/25\n",
      "3515/3515 [==============================] - 1s 279us/step - loss: 0.4506 - precision: 0.7699 - accuracy: 0.7872 - val_loss: 0.5075 - val_precision: 0.7385 - val_accuracy: 0.7617\n",
      "Epoch 16/25\n",
      "3515/3515 [==============================] - 1s 279us/step - loss: 0.4492 - precision: 0.7661 - accuracy: 0.7861 - val_loss: 0.4866 - val_precision: 0.7571 - val_accuracy: 0.7729\n",
      "Epoch 17/25\n",
      "3515/3515 [==============================] - 1s 276us/step - loss: 0.4484 - precision: 0.7625 - accuracy: 0.7915 - val_loss: 0.4909 - val_precision: 0.7574 - val_accuracy: 0.7729\n",
      "Epoch 18/25\n",
      "3515/3515 [==============================] - 1s 274us/step - loss: 0.4463 - precision: 0.7717 - accuracy: 0.7903 - val_loss: 0.4947 - val_precision: 0.7577 - val_accuracy: 0.7681\n",
      "Epoch 19/25\n",
      "3515/3515 [==============================] - 1s 274us/step - loss: 0.4451 - precision: 0.7938 - accuracy: 0.7926 - val_loss: 0.4908 - val_precision: 0.7487 - val_accuracy: 0.7713\n",
      "Epoch 20/25\n",
      "3515/3515 [==============================] - 1s 270us/step - loss: 0.4434 - precision: 0.7829 - accuracy: 0.7866 - val_loss: 0.5125 - val_precision: 0.6916 - val_accuracy: 0.7552\n",
      "Epoch 21/25\n",
      "3515/3515 [==============================] - 1s 277us/step - loss: 0.4431 - precision: 0.7833 - accuracy: 0.7900 - val_loss: 0.4938 - val_precision: 0.7470 - val_accuracy: 0.7729\n",
      "Epoch 22/25\n",
      "3515/3515 [==============================] - 1s 278us/step - loss: 0.4425 - precision: 0.7697 - accuracy: 0.7929 - val_loss: 0.5055 - val_precision: 0.7221 - val_accuracy: 0.7665\n",
      "Epoch 23/25\n",
      "3515/3515 [==============================] - 1s 279us/step - loss: 0.4402 - precision: 0.7725 - accuracy: 0.8006 - val_loss: 0.5043 - val_precision: 0.7553 - val_accuracy: 0.7729\n",
      "Epoch 24/25\n",
      "3515/3515 [==============================] - 1s 272us/step - loss: 0.4397 - precision: 0.7959 - accuracy: 0.7937 - val_loss: 0.4990 - val_precision: 0.7558 - val_accuracy: 0.7697\n",
      "Epoch 25/25\n",
      "3515/3515 [==============================] - 1s 275us/step - loss: 0.4410 - precision: 0.7785 - accuracy: 0.7940 - val_loss: 0.5056 - val_precision: 0.7236 - val_accuracy: 0.7665\n"
     ]
    }
   ],
   "source": [
    "model_3=Sequential(name='model_3')\n",
    "# Add an input layer shape depends on shape of X. We have 11 columns in X.\n",
    "model_3.add(Dense(11, activation='relu', kernel_initializer=glorot_normal(seed=None), input_shape=(10,)))\n",
    "#glorot initializer  normal, uniform\n",
    "#X.Glorot, Y.Benjo, Understanding the difficulty of deep feedforward neural networks\n",
    "# Add one hidden layer \n",
    "model_3.add(Dense(36, activation='tanh', kernel_initializer=glorot_normal(seed=None)))\n",
    "\n",
    "\n",
    "# Add an output layer \n",
    "model_3.add(Dense(1, activation='sigmoid'))\n",
    "\n",
    "\n",
    "model_3.compile(loss='binary_crossentropy',\n",
    "              optimizer='sgd',\n",
    "              metrics=[precision(), 'accuracy'])\n",
    "                 \n",
    " \n",
    "history = model_3.fit(X_train_centered, y_train, validation_split=0.15, epochs=25, batch_size=3, verbose=1)"
   ]
  },
  {
   "cell_type": "markdown",
   "metadata": {},
   "source": [
    "## Stwórzmy wizualizację modelu"
   ]
  },
  {
   "cell_type": "code",
   "execution_count": 8,
   "metadata": {},
   "outputs": [],
   "source": [
    "# !pip install -q graphviz\n",
    "# !pip install -q ann_visualizer\n",
    "# from ann_visualizer.visualize import ann_viz\n",
    "# ann_viz(model, view=True, filename=\"model_3\")"
   ]
  },
  {
   "cell_type": "code",
   "execution_count": 9,
   "metadata": {},
   "outputs": [
    {
     "data": {
      "text/html": [
       "\n",
       "        <iframe\n",
       "            width=\"900\"\n",
       "            height=\"700\"\n",
       "            src=\"../miscellaneous/model.pdf\"\n",
       "            frameborder=\"0\"\n",
       "            allowfullscreen\n",
       "        ></iframe>\n",
       "        "
      ],
      "text/plain": [
       "<IPython.lib.display.IFrame at 0x7f0785c1ddd8>"
      ]
     },
     "execution_count": 9,
     "metadata": {},
     "output_type": "execute_result"
    }
   ],
   "source": [
    "from IPython.display import IFrame\n",
    "plot_fn = '../miscellaneous/model.pdf'\n",
    "IFrame(plot_fn, width=900, height=700)"
   ]
  },
  {
   "cell_type": "markdown",
   "metadata": {},
   "source": [
    "## Sprawdźmy, jak zmieniała się precyzja i skuteczność modelu na zbiorze treningowym i walidacyjnym w zależności od liczby epok "
   ]
  },
  {
   "cell_type": "code",
   "execution_count": 10,
   "metadata": {},
   "outputs": [
    {
     "ename": "KeyError",
     "evalue": "'acc'",
     "output_type": "error",
     "traceback": [
      "\u001b[0;31m---------------------------------------------------------------------------\u001b[0m",
      "\u001b[0;31mKeyError\u001b[0m                                  Traceback (most recent call last)",
      "\u001b[0;32m<ipython-input-10-23868092e624>\u001b[0m in \u001b[0;36m<module>\u001b[0;34m\u001b[0m\n\u001b[1;32m      1\u001b[0m \u001b[0mplt\u001b[0m\u001b[0;34m.\u001b[0m\u001b[0mstyle\u001b[0m\u001b[0;34m.\u001b[0m\u001b[0muse\u001b[0m\u001b[0;34m(\u001b[0m\u001b[0;34m'ggplot'\u001b[0m\u001b[0;34m)\u001b[0m\u001b[0;34m\u001b[0m\u001b[0m\n\u001b[1;32m      2\u001b[0m \u001b[0mplt\u001b[0m\u001b[0;34m.\u001b[0m\u001b[0mfigure\u001b[0m\u001b[0;34m(\u001b[0m\u001b[0mfigsize\u001b[0m \u001b[0;34m=\u001b[0m \u001b[0;34m(\u001b[0m\u001b[0;36m12\u001b[0m\u001b[0;34m,\u001b[0m\u001b[0;36m6\u001b[0m\u001b[0;34m)\u001b[0m\u001b[0;34m)\u001b[0m\u001b[0;34m\u001b[0m\u001b[0m\n\u001b[0;32m----> 3\u001b[0;31m \u001b[0mplt\u001b[0m\u001b[0;34m.\u001b[0m\u001b[0mplot\u001b[0m\u001b[0;34m(\u001b[0m\u001b[0mhistory\u001b[0m\u001b[0;34m.\u001b[0m\u001b[0mhistory\u001b[0m\u001b[0;34m[\u001b[0m\u001b[0;34m'acc'\u001b[0m\u001b[0;34m]\u001b[0m\u001b[0;34m)\u001b[0m\u001b[0;34m\u001b[0m\u001b[0m\n\u001b[0m\u001b[1;32m      4\u001b[0m \u001b[0mplt\u001b[0m\u001b[0;34m.\u001b[0m\u001b[0mplot\u001b[0m\u001b[0;34m(\u001b[0m\u001b[0mhistory\u001b[0m\u001b[0;34m.\u001b[0m\u001b[0mhistory\u001b[0m\u001b[0;34m[\u001b[0m\u001b[0;34m'val_acc'\u001b[0m\u001b[0;34m]\u001b[0m\u001b[0;34m)\u001b[0m\u001b[0;34m\u001b[0m\u001b[0m\n\u001b[1;32m      5\u001b[0m \u001b[0mplt\u001b[0m\u001b[0;34m.\u001b[0m\u001b[0mtitle\u001b[0m\u001b[0;34m(\u001b[0m\u001b[0;34m'model accuracy'\u001b[0m\u001b[0;34m)\u001b[0m\u001b[0;34m\u001b[0m\u001b[0m\n",
      "\u001b[0;31mKeyError\u001b[0m: 'acc'"
     ]
    },
    {
     "data": {
      "text/plain": [
       "<Figure size 864x432 with 0 Axes>"
      ]
     },
     "metadata": {},
     "output_type": "display_data"
    }
   ],
   "source": [
    "plt.style.use('ggplot')\n",
    "plt.figure(figsize = (12,6))\n",
    "plt.plot(history.history['acc'])\n",
    "plt.plot(history.history['val_acc'])\n",
    "plt.title('model accuracy')\n",
    "plt.ylabel('accuracy')\n",
    "plt.xlabel('epoch')\n",
    "plt.legend(['train', 'test'], loc='upper left')\n",
    "plt.show()\n",
    "plt.figure(figsize = (12,6))\n",
    "plt.plot(history.history['precision'])\n",
    "plt.plot(history.history['val_precision'])\n",
    "plt.title('model precision')\n",
    "plt.ylabel('precision')\n",
    "plt.xlabel('epoch')\n",
    "plt.legend(['train', 'test'], loc='upper left')\n",
    "plt.show()"
   ]
  },
  {
   "cell_type": "code",
   "execution_count": 11,
   "metadata": {},
   "outputs": [
    {
     "data": {
      "image/png": "[encoded data removed]",
      "text/plain": [
       "<Figure size 864x432 with 1 Axes>"
      ]
     },
     "metadata": {},
     "output_type": "display_data"
    }
   ],
   "source": [
    "plt.style.use('ggplot')\n",
    "plt.figure(figsize = (12,6))\n",
    "plt.plot(history.history['loss'])\n",
    "plt.plot(history.history['val_loss'])\n",
    "plt.title('model loss')\n",
    "plt.ylabel('loss')\n",
    "plt.xlabel('epoch')\n",
    "plt.legend(['train', 'test'], loc='upper left')\n",
    "plt.show()"
   ]
  },
  {
   "cell_type": "markdown",
   "metadata": {},
   "source": [
    "## Metryki wydajności modelu"
   ]
  },
  {
   "cell_type": "markdown",
   "metadata": {},
   "source": [
    "**Macierz pomyłek**"
   ]
  },
  {
   "cell_type": "code",
   "execution_count": 12,
   "metadata": {},
   "outputs": [
    {
     "data": {
      "image/png": "[encoded data removed]",
      "text/plain": [
       "<Figure size 288x288 with 1 Axes>"
      ]
     },
     "metadata": {},
     "output_type": "display_data"
    }
   ],
   "source": [
    "y_pred = model_3.predict_classes(X_test_centered)\n",
    "confmat = confusion_matrix(y_test,y_pred)\n",
    "fig, ax = plt.subplots(figsize=(4, 4))\n",
    "ax.matshow(confmat, cmap=plt.cm.Blues, alpha=.3)\n",
    "plt.grid()\n",
    "for i in range(confmat.shape[0]):\n",
    "  for j in range(confmat.shape[1]):\n",
    "    ax.text(x=j, y=i, s=confmat[i, j], va='center', ha='center')\n",
    "    \n",
    "plt.xlabel('Przewidywana etykieta')\n",
    "plt.ylabel('Rzeczywista etykieta')\n",
    "plt.show()"
   ]
  },
  {
   "cell_type": "code",
   "execution_count": 13,
   "metadata": {},
   "outputs": [
    {
     "name": "stdout",
     "output_type": "stream",
     "text": [
      "Błąd 22.435021% \n",
      "Dokładność 77.564979% \n",
      "Precision 74.050633% \n",
      "Recall 74.050633% \n",
      "True positive rate 19.759036% \n",
      "False positive rate 74.050633% \n"
     ]
    }
   ],
   "source": [
    "FP = confmat[1][0]   #false positive\n",
    "TP = confmat[1][1]   #true positive\n",
    "TN = confmat[0][0]   #true negative\n",
    "FN = confmat[0][1]   #false negative\n",
    "\n",
    "error = (FP+FN)/(FP+FN+TP+TN)*100\n",
    "acc = (TP+TN)/(FP+FN+TP+TN)*100\n",
    "\n",
    "ofp = FP/(FP+TN)*100   #true positive rate\n",
    "opp = TP/(FN+TP)*100   #false positive rate\n",
    "\n",
    "pre = TP/(TP+FP)*100   #precision\n",
    "recall = TP/(FN+TP)*100 #recall (pełność)\n",
    "\n",
    "print(\"Błąd %f%% \" % error)\n",
    "print(\"Dokładność %f%% \" % acc)\n",
    "print(\"Precision %f%% \" % pre)\n",
    "print(\"Recall %f%% \" % recall)\n",
    "print(\"True positive rate %f%% \" % ofp)\n",
    "print(\"False positive rate %f%% \" % opp)"
   ]
  },
  {
   "cell_type": "markdown",
   "metadata": {},
   "source": [
    "**Rejected samples**"
   ]
  },
  {
   "cell_type": "code",
   "execution_count": 14,
   "metadata": {},
   "outputs": [
    {
     "name": "stdout",
     "output_type": "stream",
     "text": [
      "Ilość próbek 5133.000000, Poprawnie sklasyfikowane 3194.000000\n",
      "Błąd 37.775180% \n",
      "Dokładność 62.224820% \n"
     ]
    },
    {
     "name": "stderr",
     "output_type": "stream",
     "text": [
      "/home/seba/.virtualenvs/rl/lib/python3.5/site-packages/ipykernel_launcher.py:1: DeprecationWarning: \n",
      ".ix is deprecated. Please use\n",
      ".loc for label based indexing or\n",
      ".iloc for positional indexing\n",
      "\n",
      "See the documentation here:\n",
      "http://pandas.pydata.org/pandas-docs/stable/indexing.html#ix-indexer-is-deprecated\n",
      "  \"\"\"Entry point for launching an IPython kernel.\n",
      "/home/seba/.virtualenvs/rl/lib/python3.5/site-packages/sklearn/preprocessing/data.py:645: DataConversionWarning: Data with input dtype uint8, int64, float64 were all converted to float64 by StandardScaler.\n",
      "  return self.partial_fit(X, y)\n",
      "/home/seba/.virtualenvs/rl/lib/python3.5/site-packages/ipykernel_launcher.py:7: DataConversionWarning: Data with input dtype uint8, int64, float64 were all converted to float64 by StandardScaler.\n",
      "  import sys\n"
     ]
    }
   ],
   "source": [
    "val_df = df.ix[random_list]\n",
    "# split into input X and output y variables\n",
    "X_val = (val_df.drop(['Exited'], axis = 1)) #dropping exited\n",
    "y_val = val_df.Exited\n",
    "#standardization\n",
    "scaler=StandardScaler().fit(X_val)\n",
    "X_val_centered = scaler.transform(X_val)\n",
    "y_vpred = model_3.predict_classes(X_val_centered)\n",
    "val_confmat = confusion_matrix(y_val,y_vpred)\n",
    "val_FP = val_confmat[1][0]   #false positive\n",
    "val_TP = val_confmat[1][1]   #true positive\n",
    "val_TN = val_confmat[0][0]   #true negative\n",
    "val_FN = val_confmat[0][1]   #false negative\n",
    "val_error = (val_FP+val_FN)/(val_FP+val_FN+val_TP+val_TN)*100\n",
    "val_acc = (val_TP+val_TN)/(val_FP+val_FN+val_TP+val_TN)*100\n",
    "print(\"Ilość próbek %f, Poprawnie sklasyfikowane %f\" %(int(len(y_val)), int(val_confmat[0][0])))\n",
    "print(\"Błąd %f%% \" % val_error)\n",
    "print(\"Dokładność %f%% \" % val_acc)"
   ]
  },
  {
   "cell_type": "markdown",
   "metadata": {},
   "source": [
    "## Zapisujemy wytrenowany model"
   ]
  },
  {
   "cell_type": "code",
   "execution_count": 15,
   "metadata": {},
   "outputs": [],
   "source": [
    "model_3.save('../saved_models/model_3.h5')"
   ]
  },
  {
   "cell_type": "markdown",
   "metadata": {},
   "source": [
    "### autor: Karolina Schmidt i Patrycja Studzienna"
   ]
  }
 ],
 "metadata": {
  "kernelspec": {
   "display_name": "Python 3",
   "language": "python",
   "name": "python3"
  },
  "language_info": {
   "codemirror_mode": {
    "name": "ipython",
    "version": 3
   },
   "file_extension": ".py",
   "mimetype": "text/x-python",
   "name": "python",
   "nbconvert_exporter": "python",
   "pygments_lexer": "ipython3",
   "version": "3.5.2"
  }
 },
 "nbformat": 4,
 "nbformat_minor": 2
}
