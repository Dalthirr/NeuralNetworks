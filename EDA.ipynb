{
  "nbformat": 4,
  "nbformat_minor": 0,
  "metadata": {
    "colab": {
      "name": "Copy of EDA.ipynb",
      "version": "0.3.2",
      "provenance": [],
      "collapsed_sections": [],
      "include_colab_link": true
    },
    "language_info": {
      "codemirror_mode": {
        "name": "ipython",
        "version": 3
      },
      "file_extension": ".py",
      "mimetype": "text/x-python",
      "name": "python",
      "nbconvert_exporter": "python",
      "pygments_lexer": "ipython3",
      "version": "3.6.8"
    },
    "kernelspec": {
      "display_name": "Python 3",
      "language": "python",
      "name": "python3"
    }
  },
  "cells": [
    {
      "cell_type": "markdown",
      "metadata": {
        "id": "view-in-github",
        "colab_type": "text"
      },
      "source": [
        "<a href=\"https://colab.research.google.com/github/Dalthirr/NeuralNetworks/blob/EDA/EDA.ipynb\" target=\"_parent\"><img src=\"https://colab.research.google.com/assets/colab-badge.svg\" alt=\"Open In Colab\"/></a>"
      ]
    },
    {
      "metadata": {
        "id": "MGq3OSULSR1U",
        "colab_type": "text"
      },
      "cell_type": "markdown",
      "source": [
        "## Import necessary packages"
      ]
    },
    {
      "metadata": {
        "id": "dI9EaqDrSR1d",
        "colab_type": "code",
        "outputId": "c82bd830-64d0-446b-9fd5-1b4b0ad8c9ff",
        "colab": {}
      },
      "cell_type": "code",
      "source": [
        "import numpy as np\n",
        "import pandas as pd\n",
        "import sklearn\n",
        "import keras\n",
        "import tensorflow\n",
        "import seaborn\n"
      ],
      "execution_count": 0,
      "outputs": [
        {
          "output_type": "stream",
          "text": [
            "Using TensorFlow backend.\n"
          ],
          "name": "stderr"
        }
      ]
    },
    {
      "metadata": {
        "id": "d33x-cEySR1y",
        "colab_type": "code",
        "colab": {}
      },
      "cell_type": "code",
      "source": [
        "print('test')"
      ],
      "execution_count": 0,
      "outputs": []
    },
    {
      "metadata": {
        "id": "TJpsvmwxT5W5",
        "colab_type": "code",
        "colab": {}
      },
      "cell_type": "code",
      "source": [
        "# Sołtysiak\n",
        "\n",
        "import pandas as pd\n",
        "import seaborn as sns\n",
        "import matplotlib.pyplot as plt\n",
        "from sklearn.preprocessing import  StandardScaler\n",
        "\n",
        "df=pd.read_csv('C:\\studia\\Guass\\Machine_Learning\\Projekt_Mentor_Sebastian\\Dane.csv')\n",
        "print(df.head())\n",
        "print(df.info())\n",
        "\n",
        "\n",
        "# Wyrzucam wszystkie dane, które nie wpływają na pierwszy rzut oko nie wpływają na wynik\n",
        "df=df.drop(['RowNumber','CustomerId','Surname'], axis=1)\n",
        "\n",
        "\n",
        "\n",
        "print(df.head())\n",
        "print(df.info())\n",
        "StandardScaler(df)\n",
        "print(df.describe())\n",
        "\n",
        "\n",
        "#Proponuje zastosować dummy_variable dla kraju pochodzenia oraz płci.\n",
        "df=pd.get_dummies(df,drop_first=True)\n",
        "\n",
        "print(df.head())\n",
        "print(df.info())\n",
        "\n",
        "#Wypiszę wartości unikalne dla każdej zmiennej. Chcę dzięki temu wychwycić możliwe missing values\n",
        "for i in range(len(df.columns)):\n",
        "        print(df.columns[i])\n",
        "        print(pd.unique(df.iloc[0:,i]))\n",
        "\n",
        "\n",
        "      # Tworzę heatmapa korelacji pozostałych zmiennych. Odnoszę wrażenie, że są średnio skorelowane.\n",
        "plt.show(sns.heatmap(df.corr(),xticklabels=df.corr().columns,\n",
        "        yticklabels=df.corr().columns))\n",
        "\n",
        "\n",
        "\n",
        "\n",
        "\n"
      ],
      "execution_count": 0,
      "outputs": []
    }
  ]
}